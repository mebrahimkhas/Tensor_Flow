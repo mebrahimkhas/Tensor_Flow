{
 "cells": [
  {
   "cell_type": "code",
   "execution_count": 33,
   "id": "378bbb43",
   "metadata": {},
   "outputs": [],
   "source": [
    "def solution(K, A):\n",
    "    freq = {}\n",
    "    count = 0\n",
    "    for i in range(len(A)):\n",
    "        if K - A[i] in freq:\n",
    "            count += freq[K - A[i]]\n",
    "        if A[i] in freq:\n",
    "            freq[A[i]] -= 1\n",
    "        else:\n",
    "            freq[A[i]] = 1\n",
    "    return count\n"
   ]
  },
  {
   "cell_type": "code",
   "execution_count": 34,
   "id": "c1c88170",
   "metadata": {},
   "outputs": [
    {
     "data": {
      "text/plain": [
       "1"
      ]
     },
     "execution_count": 34,
     "metadata": {},
     "output_type": "execute_result"
    }
   ],
   "source": [
    "solution(6, [1, 8, -3, 0, 1, 3, -2, 4, 5])"
   ]
  },
  {
   "cell_type": "code",
   "execution_count": null,
   "id": "c4489f90",
   "metadata": {},
   "outputs": [],
   "source": []
  }
 ],
 "metadata": {
  "kernelspec": {
   "display_name": "Python 3 (ipykernel)",
   "language": "python",
   "name": "python3"
  },
  "language_info": {
   "codemirror_mode": {
    "name": "ipython",
    "version": 3
   },
   "file_extension": ".py",
   "mimetype": "text/x-python",
   "name": "python",
   "nbconvert_exporter": "python",
   "pygments_lexer": "ipython3",
   "version": "3.9.16"
  }
 },
 "nbformat": 4,
 "nbformat_minor": 5
}
