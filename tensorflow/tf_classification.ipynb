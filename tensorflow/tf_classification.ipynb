{
 "cells": [
  {
   "cell_type": "markdown",
   "metadata": {},
   "source": [
    "## Review the Basics"
   ]
  },
  {
   "cell_type": "markdown",
   "metadata": {},
   "source": [
    "- Input Neurons : Number of features used by a neural network to make predictions\n",
    "- Hidden Layers : Application of weightings to inputs to provide desired outputs\n",
    "- Output Neurons : Predictions the neural network makes\n",
    "\n",
    "Using numbers to predict another number\n",
    "\n",
    "Example : Does the size, # of bathrooms / bedrooms, etc. effect the value of a house? Based on those variables can we make predictions about the price?\n",
    "\n",
    "In Machine Learning algorithms are trained to understand relationships between features and make predictions about labels"
   ]
  },
  {
   "cell_type": "markdown",
   "metadata": {},
   "source": [
    "## What is a Tensor?"
   ]
  },
  {
   "cell_type": "markdown",
   "metadata": {},
   "source": [
    "Numerical representation of non-numerical data. Pink has no meaning as input, but .1 Red, .075 Green, and .079 Blue does if represented as [.1, .075, .079]"
   ]
  },
  {
   "cell_type": "markdown",
   "metadata": {},
   "source": [
    "## How do we Improve Predicitions / Models?"
   ]
  },
  {
   "cell_type": "markdown",
   "metadata": {},
   "source": [
    "- Fit on more data\n",
    "- Increase hidden units : Add weightings to get desired output\n",
    "- Try different activation functions : Helps decide what data is most important\n",
    "- Try different optimization functions : Optimize by smoothing data to expected results\n",
    "- Increase learning rate : How much to change the model based on estimated error\n",
    "- Fit longer : Increase the number of times we try to fit the data"
   ]
  },
  {
   "cell_type": "markdown",
   "metadata": {},
   "source": [
    "## Binary & Multi-class Classification"
   ]
  },
  {
   "cell_type": "markdown",
   "metadata": {},
   "source": [
    "## Tensorflow Binary Classification"
   ]
  },
  {
   "cell_type": "markdown",
   "metadata": {},
   "source": [
    "Binary classification refers to something being one thing or another.\n",
    "\n",
    "| Hyperparameter | Binary Classification |\n",
    "| :---: | :---: |\n",
    "| Input Layer | Shape == number of features |\n",
    "| Hidden Layers | Minimum of 1 to Unlimited |\n",
    "| Neurons in Hidden Layer | Normally 10 to 100 |\n",
    "| Output layer | 1 |\n",
    "| Hidden activation | Usually Rectified Linear Unit (ReLU) |\n",
    "| Output activation | Sigmoid |\n",
    "| Loss function | BinaryCrossentropy |\n",
    "| Optimizer | Stochastic Gradient Descent, Adam |"
   ]
  },
  {
   "cell_type": "markdown",
   "metadata": {},
   "source": [
    "## Imports"
   ]
  },
  {
   "cell_type": "code",
   "execution_count": 4,
   "metadata": {},
   "outputs": [],
   "source": [
    "import numpy as np\n",
    "import pandas as pd\n",
    "import random\n",
    "import matplotlib.pyplot as plt\n",
    "import seaborn as sns\n",
    "\n",
    "# Used to build and deploy machine learning apps\n",
    "import tensorflow as tf\n",
    "\n",
    "# Deep Learning API for creating Neural Networks (Runs on TensorFlow)\n",
    "from tensorflow import keras \n",
    "from tensorflow.keras import layers\n",
    "from tensorflow import math\n",
    "from keras.utils.vis_utils import plot_model\n",
    "\n",
    "# Scikit-learn : machine learning library\n",
    "from sklearn.model_selection import train_test_split\n",
    "from sklearn.compose import make_column_transformer\n",
    "from sklearn.preprocessing import MinMaxScaler, OneHotEncoder"
   ]
  },
  {
   "cell_type": "markdown",
   "metadata": {},
   "source": [
    "## Get Wine Data"
   ]
  },
  {
   "cell_type": "markdown",
   "metadata": {},
   "source": [
    "Location https://www.kaggle.com/datasets/shelvigarg/wine-quality-dataset?select=winequalityN.csv"
   ]
  },
  {
   "cell_type": "code",
   "execution_count": 5,
   "metadata": {},
   "outputs": [
    {
     "data": {
      "text/html": [
       "<div>\n",
       "<style scoped>\n",
       "    .dataframe tbody tr th:only-of-type {\n",
       "        vertical-align: middle;\n",
       "    }\n",
       "\n",
       "    .dataframe tbody tr th {\n",
       "        vertical-align: top;\n",
       "    }\n",
       "\n",
       "    .dataframe thead th {\n",
       "        text-align: right;\n",
       "    }\n",
       "</style>\n",
       "<table border=\"1\" class=\"dataframe\">\n",
       "  <thead>\n",
       "    <tr style=\"text-align: right;\">\n",
       "      <th></th>\n",
       "      <th>type</th>\n",
       "      <th>fixed acidity</th>\n",
       "      <th>volatile acidity</th>\n",
       "      <th>citric acid</th>\n",
       "      <th>residual sugar</th>\n",
       "      <th>chlorides</th>\n",
       "      <th>free sulfur dioxide</th>\n",
       "      <th>total sulfur dioxide</th>\n",
       "      <th>density</th>\n",
       "      <th>pH</th>\n",
       "      <th>sulphates</th>\n",
       "      <th>alcohol</th>\n",
       "      <th>quality</th>\n",
       "    </tr>\n",
       "  </thead>\n",
       "  <tbody>\n",
       "    <tr>\n",
       "      <th>0</th>\n",
       "      <td>white</td>\n",
       "      <td>7.0</td>\n",
       "      <td>0.27</td>\n",
       "      <td>0.36</td>\n",
       "      <td>20.7</td>\n",
       "      <td>0.045</td>\n",
       "      <td>45.0</td>\n",
       "      <td>170.0</td>\n",
       "      <td>1.0010</td>\n",
       "      <td>3.00</td>\n",
       "      <td>0.45</td>\n",
       "      <td>8.8</td>\n",
       "      <td>6</td>\n",
       "    </tr>\n",
       "    <tr>\n",
       "      <th>1</th>\n",
       "      <td>white</td>\n",
       "      <td>6.3</td>\n",
       "      <td>0.30</td>\n",
       "      <td>0.34</td>\n",
       "      <td>1.6</td>\n",
       "      <td>0.049</td>\n",
       "      <td>14.0</td>\n",
       "      <td>132.0</td>\n",
       "      <td>0.9940</td>\n",
       "      <td>3.30</td>\n",
       "      <td>0.49</td>\n",
       "      <td>9.5</td>\n",
       "      <td>6</td>\n",
       "    </tr>\n",
       "    <tr>\n",
       "      <th>2</th>\n",
       "      <td>white</td>\n",
       "      <td>8.1</td>\n",
       "      <td>0.28</td>\n",
       "      <td>0.40</td>\n",
       "      <td>6.9</td>\n",
       "      <td>0.050</td>\n",
       "      <td>30.0</td>\n",
       "      <td>97.0</td>\n",
       "      <td>0.9951</td>\n",
       "      <td>3.26</td>\n",
       "      <td>0.44</td>\n",
       "      <td>10.1</td>\n",
       "      <td>6</td>\n",
       "    </tr>\n",
       "    <tr>\n",
       "      <th>3</th>\n",
       "      <td>white</td>\n",
       "      <td>7.2</td>\n",
       "      <td>0.23</td>\n",
       "      <td>0.32</td>\n",
       "      <td>8.5</td>\n",
       "      <td>0.058</td>\n",
       "      <td>47.0</td>\n",
       "      <td>186.0</td>\n",
       "      <td>0.9956</td>\n",
       "      <td>3.19</td>\n",
       "      <td>0.40</td>\n",
       "      <td>9.9</td>\n",
       "      <td>6</td>\n",
       "    </tr>\n",
       "    <tr>\n",
       "      <th>4</th>\n",
       "      <td>white</td>\n",
       "      <td>7.2</td>\n",
       "      <td>0.23</td>\n",
       "      <td>0.32</td>\n",
       "      <td>8.5</td>\n",
       "      <td>0.058</td>\n",
       "      <td>47.0</td>\n",
       "      <td>186.0</td>\n",
       "      <td>0.9956</td>\n",
       "      <td>3.19</td>\n",
       "      <td>0.40</td>\n",
       "      <td>9.9</td>\n",
       "      <td>6</td>\n",
       "    </tr>\n",
       "  </tbody>\n",
       "</table>\n",
       "</div>"
      ],
      "text/plain": [
       "    type  fixed acidity  volatile acidity  citric acid  residual sugar  \\\n",
       "0  white            7.0              0.27         0.36            20.7   \n",
       "1  white            6.3              0.30         0.34             1.6   \n",
       "2  white            8.1              0.28         0.40             6.9   \n",
       "3  white            7.2              0.23         0.32             8.5   \n",
       "4  white            7.2              0.23         0.32             8.5   \n",
       "\n",
       "   chlorides  free sulfur dioxide  total sulfur dioxide  density    pH  \\\n",
       "0      0.045                 45.0                 170.0   1.0010  3.00   \n",
       "1      0.049                 14.0                 132.0   0.9940  3.30   \n",
       "2      0.050                 30.0                  97.0   0.9951  3.26   \n",
       "3      0.058                 47.0                 186.0   0.9956  3.19   \n",
       "4      0.058                 47.0                 186.0   0.9956  3.19   \n",
       "\n",
       "   sulphates  alcohol  quality  \n",
       "0       0.45      8.8        6  \n",
       "1       0.49      9.5        6  \n",
       "2       0.44     10.1        6  \n",
       "3       0.40      9.9        6  \n",
       "4       0.40      9.9        6  "
      ]
     },
     "execution_count": 5,
     "metadata": {},
     "output_type": "execute_result"
    }
   ],
   "source": [
    "wine_data = pd.read_csv(\"https://raw.githubusercontent.com/derekbanas/tensorflow/main/winequalityN.csv\")\n",
    "wine_data.head()"
   ]
  },
  {
   "cell_type": "markdown",
   "metadata": {},
   "source": [
    "## Delete Rows with Unknowns"
   ]
  },
  {
   "cell_type": "code",
   "execution_count": 6,
   "metadata": {},
   "outputs": [
    {
     "data": {
      "text/plain": [
       "type                     0\n",
       "fixed acidity           10\n",
       "volatile acidity         8\n",
       "citric acid              3\n",
       "residual sugar           2\n",
       "chlorides                2\n",
       "free sulfur dioxide      0\n",
       "total sulfur dioxide     0\n",
       "density                  0\n",
       "pH                       9\n",
       "sulphates                4\n",
       "alcohol                  0\n",
       "quality                  0\n",
       "dtype: int64"
      ]
     },
     "execution_count": 6,
     "metadata": {},
     "output_type": "execute_result"
    }
   ],
   "source": [
    "# Check for nans in columns\n",
    "wine_data.isna().sum()"
   ]
  },
  {
   "cell_type": "code",
   "execution_count": 7,
   "metadata": {},
   "outputs": [
    {
     "data": {
      "text/plain": [
       "type                    0\n",
       "fixed acidity           0\n",
       "volatile acidity        0\n",
       "citric acid             0\n",
       "residual sugar          0\n",
       "chlorides               0\n",
       "free sulfur dioxide     0\n",
       "total sulfur dioxide    0\n",
       "density                 0\n",
       "pH                      0\n",
       "sulphates               0\n",
       "alcohol                 0\n",
       "quality                 0\n",
       "dtype: int64"
      ]
     },
     "execution_count": 7,
     "metadata": {},
     "output_type": "execute_result"
    }
   ],
   "source": [
    "# This deletes all of them\n",
    "wine_data = wine_data.dropna()\n",
    "wine_data.isna().sum()"
   ]
  },
  {
   "cell_type": "markdown",
   "metadata": {},
   "source": [
    "## Rename Column"
   ]
  },
  {
   "cell_type": "code",
   "execution_count": 8,
   "metadata": {},
   "outputs": [
    {
     "data": {
      "text/html": [
       "<div>\n",
       "<style scoped>\n",
       "    .dataframe tbody tr th:only-of-type {\n",
       "        vertical-align: middle;\n",
       "    }\n",
       "\n",
       "    .dataframe tbody tr th {\n",
       "        vertical-align: top;\n",
       "    }\n",
       "\n",
       "    .dataframe thead th {\n",
       "        text-align: right;\n",
       "    }\n",
       "</style>\n",
       "<table border=\"1\" class=\"dataframe\">\n",
       "  <thead>\n",
       "    <tr style=\"text-align: right;\">\n",
       "      <th></th>\n",
       "      <th>white_wine</th>\n",
       "      <th>fixed acidity</th>\n",
       "      <th>volatile acidity</th>\n",
       "      <th>citric acid</th>\n",
       "      <th>residual sugar</th>\n",
       "      <th>chlorides</th>\n",
       "      <th>free sulfur dioxide</th>\n",
       "      <th>total sulfur dioxide</th>\n",
       "      <th>density</th>\n",
       "      <th>pH</th>\n",
       "      <th>sulphates</th>\n",
       "      <th>alcohol</th>\n",
       "      <th>quality</th>\n",
       "    </tr>\n",
       "  </thead>\n",
       "  <tbody>\n",
       "    <tr>\n",
       "      <th>0</th>\n",
       "      <td>white</td>\n",
       "      <td>7.0</td>\n",
       "      <td>0.270</td>\n",
       "      <td>0.36</td>\n",
       "      <td>20.7</td>\n",
       "      <td>0.045</td>\n",
       "      <td>45.0</td>\n",
       "      <td>170.0</td>\n",
       "      <td>1.00100</td>\n",
       "      <td>3.00</td>\n",
       "      <td>0.45</td>\n",
       "      <td>8.8</td>\n",
       "      <td>6</td>\n",
       "    </tr>\n",
       "    <tr>\n",
       "      <th>1</th>\n",
       "      <td>white</td>\n",
       "      <td>6.3</td>\n",
       "      <td>0.300</td>\n",
       "      <td>0.34</td>\n",
       "      <td>1.6</td>\n",
       "      <td>0.049</td>\n",
       "      <td>14.0</td>\n",
       "      <td>132.0</td>\n",
       "      <td>0.99400</td>\n",
       "      <td>3.30</td>\n",
       "      <td>0.49</td>\n",
       "      <td>9.5</td>\n",
       "      <td>6</td>\n",
       "    </tr>\n",
       "    <tr>\n",
       "      <th>2</th>\n",
       "      <td>white</td>\n",
       "      <td>8.1</td>\n",
       "      <td>0.280</td>\n",
       "      <td>0.40</td>\n",
       "      <td>6.9</td>\n",
       "      <td>0.050</td>\n",
       "      <td>30.0</td>\n",
       "      <td>97.0</td>\n",
       "      <td>0.99510</td>\n",
       "      <td>3.26</td>\n",
       "      <td>0.44</td>\n",
       "      <td>10.1</td>\n",
       "      <td>6</td>\n",
       "    </tr>\n",
       "    <tr>\n",
       "      <th>3</th>\n",
       "      <td>white</td>\n",
       "      <td>7.2</td>\n",
       "      <td>0.230</td>\n",
       "      <td>0.32</td>\n",
       "      <td>8.5</td>\n",
       "      <td>0.058</td>\n",
       "      <td>47.0</td>\n",
       "      <td>186.0</td>\n",
       "      <td>0.99560</td>\n",
       "      <td>3.19</td>\n",
       "      <td>0.40</td>\n",
       "      <td>9.9</td>\n",
       "      <td>6</td>\n",
       "    </tr>\n",
       "    <tr>\n",
       "      <th>4</th>\n",
       "      <td>white</td>\n",
       "      <td>7.2</td>\n",
       "      <td>0.230</td>\n",
       "      <td>0.32</td>\n",
       "      <td>8.5</td>\n",
       "      <td>0.058</td>\n",
       "      <td>47.0</td>\n",
       "      <td>186.0</td>\n",
       "      <td>0.99560</td>\n",
       "      <td>3.19</td>\n",
       "      <td>0.40</td>\n",
       "      <td>9.9</td>\n",
       "      <td>6</td>\n",
       "    </tr>\n",
       "    <tr>\n",
       "      <th>...</th>\n",
       "      <td>...</td>\n",
       "      <td>...</td>\n",
       "      <td>...</td>\n",
       "      <td>...</td>\n",
       "      <td>...</td>\n",
       "      <td>...</td>\n",
       "      <td>...</td>\n",
       "      <td>...</td>\n",
       "      <td>...</td>\n",
       "      <td>...</td>\n",
       "      <td>...</td>\n",
       "      <td>...</td>\n",
       "      <td>...</td>\n",
       "    </tr>\n",
       "    <tr>\n",
       "      <th>6491</th>\n",
       "      <td>red</td>\n",
       "      <td>6.8</td>\n",
       "      <td>0.620</td>\n",
       "      <td>0.08</td>\n",
       "      <td>1.9</td>\n",
       "      <td>0.068</td>\n",
       "      <td>28.0</td>\n",
       "      <td>38.0</td>\n",
       "      <td>0.99651</td>\n",
       "      <td>3.42</td>\n",
       "      <td>0.82</td>\n",
       "      <td>9.5</td>\n",
       "      <td>6</td>\n",
       "    </tr>\n",
       "    <tr>\n",
       "      <th>6492</th>\n",
       "      <td>red</td>\n",
       "      <td>6.2</td>\n",
       "      <td>0.600</td>\n",
       "      <td>0.08</td>\n",
       "      <td>2.0</td>\n",
       "      <td>0.090</td>\n",
       "      <td>32.0</td>\n",
       "      <td>44.0</td>\n",
       "      <td>0.99490</td>\n",
       "      <td>3.45</td>\n",
       "      <td>0.58</td>\n",
       "      <td>10.5</td>\n",
       "      <td>5</td>\n",
       "    </tr>\n",
       "    <tr>\n",
       "      <th>6494</th>\n",
       "      <td>red</td>\n",
       "      <td>6.3</td>\n",
       "      <td>0.510</td>\n",
       "      <td>0.13</td>\n",
       "      <td>2.3</td>\n",
       "      <td>0.076</td>\n",
       "      <td>29.0</td>\n",
       "      <td>40.0</td>\n",
       "      <td>0.99574</td>\n",
       "      <td>3.42</td>\n",
       "      <td>0.75</td>\n",
       "      <td>11.0</td>\n",
       "      <td>6</td>\n",
       "    </tr>\n",
       "    <tr>\n",
       "      <th>6495</th>\n",
       "      <td>red</td>\n",
       "      <td>5.9</td>\n",
       "      <td>0.645</td>\n",
       "      <td>0.12</td>\n",
       "      <td>2.0</td>\n",
       "      <td>0.075</td>\n",
       "      <td>32.0</td>\n",
       "      <td>44.0</td>\n",
       "      <td>0.99547</td>\n",
       "      <td>3.57</td>\n",
       "      <td>0.71</td>\n",
       "      <td>10.2</td>\n",
       "      <td>5</td>\n",
       "    </tr>\n",
       "    <tr>\n",
       "      <th>6496</th>\n",
       "      <td>red</td>\n",
       "      <td>6.0</td>\n",
       "      <td>0.310</td>\n",
       "      <td>0.47</td>\n",
       "      <td>3.6</td>\n",
       "      <td>0.067</td>\n",
       "      <td>18.0</td>\n",
       "      <td>42.0</td>\n",
       "      <td>0.99549</td>\n",
       "      <td>3.39</td>\n",
       "      <td>0.66</td>\n",
       "      <td>11.0</td>\n",
       "      <td>6</td>\n",
       "    </tr>\n",
       "  </tbody>\n",
       "</table>\n",
       "<p>6463 rows × 13 columns</p>\n",
       "</div>"
      ],
      "text/plain": [
       "     white_wine  fixed acidity  volatile acidity  citric acid  residual sugar  \\\n",
       "0         white            7.0             0.270         0.36            20.7   \n",
       "1         white            6.3             0.300         0.34             1.6   \n",
       "2         white            8.1             0.280         0.40             6.9   \n",
       "3         white            7.2             0.230         0.32             8.5   \n",
       "4         white            7.2             0.230         0.32             8.5   \n",
       "...         ...            ...               ...          ...             ...   \n",
       "6491        red            6.8             0.620         0.08             1.9   \n",
       "6492        red            6.2             0.600         0.08             2.0   \n",
       "6494        red            6.3             0.510         0.13             2.3   \n",
       "6495        red            5.9             0.645         0.12             2.0   \n",
       "6496        red            6.0             0.310         0.47             3.6   \n",
       "\n",
       "      chlorides  free sulfur dioxide  total sulfur dioxide  density    pH  \\\n",
       "0         0.045                 45.0                 170.0  1.00100  3.00   \n",
       "1         0.049                 14.0                 132.0  0.99400  3.30   \n",
       "2         0.050                 30.0                  97.0  0.99510  3.26   \n",
       "3         0.058                 47.0                 186.0  0.99560  3.19   \n",
       "4         0.058                 47.0                 186.0  0.99560  3.19   \n",
       "...         ...                  ...                   ...      ...   ...   \n",
       "6491      0.068                 28.0                  38.0  0.99651  3.42   \n",
       "6492      0.090                 32.0                  44.0  0.99490  3.45   \n",
       "6494      0.076                 29.0                  40.0  0.99574  3.42   \n",
       "6495      0.075                 32.0                  44.0  0.99547  3.57   \n",
       "6496      0.067                 18.0                  42.0  0.99549  3.39   \n",
       "\n",
       "      sulphates  alcohol  quality  \n",
       "0          0.45      8.8        6  \n",
       "1          0.49      9.5        6  \n",
       "2          0.44     10.1        6  \n",
       "3          0.40      9.9        6  \n",
       "4          0.40      9.9        6  \n",
       "...         ...      ...      ...  \n",
       "6491       0.82      9.5        6  \n",
       "6492       0.58     10.5        5  \n",
       "6494       0.75     11.0        6  \n",
       "6495       0.71     10.2        5  \n",
       "6496       0.66     11.0        6  \n",
       "\n",
       "[6463 rows x 13 columns]"
      ]
     },
     "execution_count": 8,
     "metadata": {},
     "output_type": "execute_result"
    }
   ],
   "source": [
    "wine_data.rename(columns={\"type\": \"white_wine\"},\n",
    "                inplace=True)\n",
    "wine_data"
   ]
  },
  {
   "cell_type": "markdown",
   "metadata": {},
   "source": [
    "# Change white_wine Based on condition"
   ]
  },
  {
   "cell_type": "code",
   "execution_count": 9,
   "metadata": {},
   "outputs": [
    {
     "data": {
      "text/html": [
       "<div>\n",
       "<style scoped>\n",
       "    .dataframe tbody tr th:only-of-type {\n",
       "        vertical-align: middle;\n",
       "    }\n",
       "\n",
       "    .dataframe tbody tr th {\n",
       "        vertical-align: top;\n",
       "    }\n",
       "\n",
       "    .dataframe thead th {\n",
       "        text-align: right;\n",
       "    }\n",
       "</style>\n",
       "<table border=\"1\" class=\"dataframe\">\n",
       "  <thead>\n",
       "    <tr style=\"text-align: right;\">\n",
       "      <th></th>\n",
       "      <th>white_wine</th>\n",
       "      <th>fixed acidity</th>\n",
       "      <th>volatile acidity</th>\n",
       "      <th>citric acid</th>\n",
       "      <th>residual sugar</th>\n",
       "      <th>chlorides</th>\n",
       "      <th>free sulfur dioxide</th>\n",
       "      <th>total sulfur dioxide</th>\n",
       "      <th>density</th>\n",
       "      <th>pH</th>\n",
       "      <th>sulphates</th>\n",
       "      <th>alcohol</th>\n",
       "      <th>quality</th>\n",
       "    </tr>\n",
       "  </thead>\n",
       "  <tbody>\n",
       "    <tr>\n",
       "      <th>0</th>\n",
       "      <td>1</td>\n",
       "      <td>7.0</td>\n",
       "      <td>0.270</td>\n",
       "      <td>0.36</td>\n",
       "      <td>20.7</td>\n",
       "      <td>0.045</td>\n",
       "      <td>45.0</td>\n",
       "      <td>170.0</td>\n",
       "      <td>1.00100</td>\n",
       "      <td>3.00</td>\n",
       "      <td>0.45</td>\n",
       "      <td>8.8</td>\n",
       "      <td>6</td>\n",
       "    </tr>\n",
       "    <tr>\n",
       "      <th>1</th>\n",
       "      <td>1</td>\n",
       "      <td>6.3</td>\n",
       "      <td>0.300</td>\n",
       "      <td>0.34</td>\n",
       "      <td>1.6</td>\n",
       "      <td>0.049</td>\n",
       "      <td>14.0</td>\n",
       "      <td>132.0</td>\n",
       "      <td>0.99400</td>\n",
       "      <td>3.30</td>\n",
       "      <td>0.49</td>\n",
       "      <td>9.5</td>\n",
       "      <td>6</td>\n",
       "    </tr>\n",
       "    <tr>\n",
       "      <th>2</th>\n",
       "      <td>1</td>\n",
       "      <td>8.1</td>\n",
       "      <td>0.280</td>\n",
       "      <td>0.40</td>\n",
       "      <td>6.9</td>\n",
       "      <td>0.050</td>\n",
       "      <td>30.0</td>\n",
       "      <td>97.0</td>\n",
       "      <td>0.99510</td>\n",
       "      <td>3.26</td>\n",
       "      <td>0.44</td>\n",
       "      <td>10.1</td>\n",
       "      <td>6</td>\n",
       "    </tr>\n",
       "    <tr>\n",
       "      <th>3</th>\n",
       "      <td>1</td>\n",
       "      <td>7.2</td>\n",
       "      <td>0.230</td>\n",
       "      <td>0.32</td>\n",
       "      <td>8.5</td>\n",
       "      <td>0.058</td>\n",
       "      <td>47.0</td>\n",
       "      <td>186.0</td>\n",
       "      <td>0.99560</td>\n",
       "      <td>3.19</td>\n",
       "      <td>0.40</td>\n",
       "      <td>9.9</td>\n",
       "      <td>6</td>\n",
       "    </tr>\n",
       "    <tr>\n",
       "      <th>4</th>\n",
       "      <td>1</td>\n",
       "      <td>7.2</td>\n",
       "      <td>0.230</td>\n",
       "      <td>0.32</td>\n",
       "      <td>8.5</td>\n",
       "      <td>0.058</td>\n",
       "      <td>47.0</td>\n",
       "      <td>186.0</td>\n",
       "      <td>0.99560</td>\n",
       "      <td>3.19</td>\n",
       "      <td>0.40</td>\n",
       "      <td>9.9</td>\n",
       "      <td>6</td>\n",
       "    </tr>\n",
       "    <tr>\n",
       "      <th>...</th>\n",
       "      <td>...</td>\n",
       "      <td>...</td>\n",
       "      <td>...</td>\n",
       "      <td>...</td>\n",
       "      <td>...</td>\n",
       "      <td>...</td>\n",
       "      <td>...</td>\n",
       "      <td>...</td>\n",
       "      <td>...</td>\n",
       "      <td>...</td>\n",
       "      <td>...</td>\n",
       "      <td>...</td>\n",
       "      <td>...</td>\n",
       "    </tr>\n",
       "    <tr>\n",
       "      <th>6491</th>\n",
       "      <td>0</td>\n",
       "      <td>6.8</td>\n",
       "      <td>0.620</td>\n",
       "      <td>0.08</td>\n",
       "      <td>1.9</td>\n",
       "      <td>0.068</td>\n",
       "      <td>28.0</td>\n",
       "      <td>38.0</td>\n",
       "      <td>0.99651</td>\n",
       "      <td>3.42</td>\n",
       "      <td>0.82</td>\n",
       "      <td>9.5</td>\n",
       "      <td>6</td>\n",
       "    </tr>\n",
       "    <tr>\n",
       "      <th>6492</th>\n",
       "      <td>0</td>\n",
       "      <td>6.2</td>\n",
       "      <td>0.600</td>\n",
       "      <td>0.08</td>\n",
       "      <td>2.0</td>\n",
       "      <td>0.090</td>\n",
       "      <td>32.0</td>\n",
       "      <td>44.0</td>\n",
       "      <td>0.99490</td>\n",
       "      <td>3.45</td>\n",
       "      <td>0.58</td>\n",
       "      <td>10.5</td>\n",
       "      <td>5</td>\n",
       "    </tr>\n",
       "    <tr>\n",
       "      <th>6494</th>\n",
       "      <td>0</td>\n",
       "      <td>6.3</td>\n",
       "      <td>0.510</td>\n",
       "      <td>0.13</td>\n",
       "      <td>2.3</td>\n",
       "      <td>0.076</td>\n",
       "      <td>29.0</td>\n",
       "      <td>40.0</td>\n",
       "      <td>0.99574</td>\n",
       "      <td>3.42</td>\n",
       "      <td>0.75</td>\n",
       "      <td>11.0</td>\n",
       "      <td>6</td>\n",
       "    </tr>\n",
       "    <tr>\n",
       "      <th>6495</th>\n",
       "      <td>0</td>\n",
       "      <td>5.9</td>\n",
       "      <td>0.645</td>\n",
       "      <td>0.12</td>\n",
       "      <td>2.0</td>\n",
       "      <td>0.075</td>\n",
       "      <td>32.0</td>\n",
       "      <td>44.0</td>\n",
       "      <td>0.99547</td>\n",
       "      <td>3.57</td>\n",
       "      <td>0.71</td>\n",
       "      <td>10.2</td>\n",
       "      <td>5</td>\n",
       "    </tr>\n",
       "    <tr>\n",
       "      <th>6496</th>\n",
       "      <td>0</td>\n",
       "      <td>6.0</td>\n",
       "      <td>0.310</td>\n",
       "      <td>0.47</td>\n",
       "      <td>3.6</td>\n",
       "      <td>0.067</td>\n",
       "      <td>18.0</td>\n",
       "      <td>42.0</td>\n",
       "      <td>0.99549</td>\n",
       "      <td>3.39</td>\n",
       "      <td>0.66</td>\n",
       "      <td>11.0</td>\n",
       "      <td>6</td>\n",
       "    </tr>\n",
       "  </tbody>\n",
       "</table>\n",
       "<p>6463 rows × 13 columns</p>\n",
       "</div>"
      ],
      "text/plain": [
       "     white_wine  fixed acidity  volatile acidity  citric acid  residual sugar  \\\n",
       "0             1            7.0             0.270         0.36            20.7   \n",
       "1             1            6.3             0.300         0.34             1.6   \n",
       "2             1            8.1             0.280         0.40             6.9   \n",
       "3             1            7.2             0.230         0.32             8.5   \n",
       "4             1            7.2             0.230         0.32             8.5   \n",
       "...         ...            ...               ...          ...             ...   \n",
       "6491          0            6.8             0.620         0.08             1.9   \n",
       "6492          0            6.2             0.600         0.08             2.0   \n",
       "6494          0            6.3             0.510         0.13             2.3   \n",
       "6495          0            5.9             0.645         0.12             2.0   \n",
       "6496          0            6.0             0.310         0.47             3.6   \n",
       "\n",
       "      chlorides  free sulfur dioxide  total sulfur dioxide  density    pH  \\\n",
       "0         0.045                 45.0                 170.0  1.00100  3.00   \n",
       "1         0.049                 14.0                 132.0  0.99400  3.30   \n",
       "2         0.050                 30.0                  97.0  0.99510  3.26   \n",
       "3         0.058                 47.0                 186.0  0.99560  3.19   \n",
       "4         0.058                 47.0                 186.0  0.99560  3.19   \n",
       "...         ...                  ...                   ...      ...   ...   \n",
       "6491      0.068                 28.0                  38.0  0.99651  3.42   \n",
       "6492      0.090                 32.0                  44.0  0.99490  3.45   \n",
       "6494      0.076                 29.0                  40.0  0.99574  3.42   \n",
       "6495      0.075                 32.0                  44.0  0.99547  3.57   \n",
       "6496      0.067                 18.0                  42.0  0.99549  3.39   \n",
       "\n",
       "      sulphates  alcohol  quality  \n",
       "0          0.45      8.8        6  \n",
       "1          0.49      9.5        6  \n",
       "2          0.44     10.1        6  \n",
       "3          0.40      9.9        6  \n",
       "4          0.40      9.9        6  \n",
       "...         ...      ...      ...  \n",
       "6491       0.82      9.5        6  \n",
       "6492       0.58     10.5        5  \n",
       "6494       0.75     11.0        6  \n",
       "6495       0.71     10.2        5  \n",
       "6496       0.66     11.0        6  \n",
       "\n",
       "[6463 rows x 13 columns]"
      ]
     },
     "execution_count": 9,
     "metadata": {},
     "output_type": "execute_result"
    }
   ],
   "source": [
    "wine_data.loc[wine_data[\"white_wine\"] == \"white\", \"white_wine\"] = 1\n",
    "wine_data.loc[wine_data[\"white_wine\"] == \"red\", \"white_wine\"] = 0\n",
    "wine_data"
   ]
  },
  {
   "cell_type": "markdown",
   "metadata": {},
   "source": [
    "## Change Quality Based on Condition"
   ]
  },
  {
   "cell_type": "code",
   "execution_count": 10,
   "metadata": {},
   "outputs": [
    {
     "data": {
      "text/html": [
       "<div>\n",
       "<style scoped>\n",
       "    .dataframe tbody tr th:only-of-type {\n",
       "        vertical-align: middle;\n",
       "    }\n",
       "\n",
       "    .dataframe tbody tr th {\n",
       "        vertical-align: top;\n",
       "    }\n",
       "\n",
       "    .dataframe thead th {\n",
       "        text-align: right;\n",
       "    }\n",
       "</style>\n",
       "<table border=\"1\" class=\"dataframe\">\n",
       "  <thead>\n",
       "    <tr style=\"text-align: right;\">\n",
       "      <th></th>\n",
       "      <th>white_wine</th>\n",
       "      <th>fixed acidity</th>\n",
       "      <th>volatile acidity</th>\n",
       "      <th>citric acid</th>\n",
       "      <th>residual sugar</th>\n",
       "      <th>chlorides</th>\n",
       "      <th>free sulfur dioxide</th>\n",
       "      <th>total sulfur dioxide</th>\n",
       "      <th>density</th>\n",
       "      <th>pH</th>\n",
       "      <th>sulphates</th>\n",
       "      <th>alcohol</th>\n",
       "      <th>quality</th>\n",
       "    </tr>\n",
       "  </thead>\n",
       "  <tbody>\n",
       "    <tr>\n",
       "      <th>0</th>\n",
       "      <td>1</td>\n",
       "      <td>7.0</td>\n",
       "      <td>0.270</td>\n",
       "      <td>0.36</td>\n",
       "      <td>20.7</td>\n",
       "      <td>0.045</td>\n",
       "      <td>45.0</td>\n",
       "      <td>170.0</td>\n",
       "      <td>1.00100</td>\n",
       "      <td>3.00</td>\n",
       "      <td>0.45</td>\n",
       "      <td>8.8</td>\n",
       "      <td>0</td>\n",
       "    </tr>\n",
       "    <tr>\n",
       "      <th>1</th>\n",
       "      <td>1</td>\n",
       "      <td>6.3</td>\n",
       "      <td>0.300</td>\n",
       "      <td>0.34</td>\n",
       "      <td>1.6</td>\n",
       "      <td>0.049</td>\n",
       "      <td>14.0</td>\n",
       "      <td>132.0</td>\n",
       "      <td>0.99400</td>\n",
       "      <td>3.30</td>\n",
       "      <td>0.49</td>\n",
       "      <td>9.5</td>\n",
       "      <td>0</td>\n",
       "    </tr>\n",
       "    <tr>\n",
       "      <th>2</th>\n",
       "      <td>1</td>\n",
       "      <td>8.1</td>\n",
       "      <td>0.280</td>\n",
       "      <td>0.40</td>\n",
       "      <td>6.9</td>\n",
       "      <td>0.050</td>\n",
       "      <td>30.0</td>\n",
       "      <td>97.0</td>\n",
       "      <td>0.99510</td>\n",
       "      <td>3.26</td>\n",
       "      <td>0.44</td>\n",
       "      <td>10.1</td>\n",
       "      <td>0</td>\n",
       "    </tr>\n",
       "    <tr>\n",
       "      <th>3</th>\n",
       "      <td>1</td>\n",
       "      <td>7.2</td>\n",
       "      <td>0.230</td>\n",
       "      <td>0.32</td>\n",
       "      <td>8.5</td>\n",
       "      <td>0.058</td>\n",
       "      <td>47.0</td>\n",
       "      <td>186.0</td>\n",
       "      <td>0.99560</td>\n",
       "      <td>3.19</td>\n",
       "      <td>0.40</td>\n",
       "      <td>9.9</td>\n",
       "      <td>0</td>\n",
       "    </tr>\n",
       "    <tr>\n",
       "      <th>4</th>\n",
       "      <td>1</td>\n",
       "      <td>7.2</td>\n",
       "      <td>0.230</td>\n",
       "      <td>0.32</td>\n",
       "      <td>8.5</td>\n",
       "      <td>0.058</td>\n",
       "      <td>47.0</td>\n",
       "      <td>186.0</td>\n",
       "      <td>0.99560</td>\n",
       "      <td>3.19</td>\n",
       "      <td>0.40</td>\n",
       "      <td>9.9</td>\n",
       "      <td>0</td>\n",
       "    </tr>\n",
       "    <tr>\n",
       "      <th>...</th>\n",
       "      <td>...</td>\n",
       "      <td>...</td>\n",
       "      <td>...</td>\n",
       "      <td>...</td>\n",
       "      <td>...</td>\n",
       "      <td>...</td>\n",
       "      <td>...</td>\n",
       "      <td>...</td>\n",
       "      <td>...</td>\n",
       "      <td>...</td>\n",
       "      <td>...</td>\n",
       "      <td>...</td>\n",
       "      <td>...</td>\n",
       "    </tr>\n",
       "    <tr>\n",
       "      <th>6491</th>\n",
       "      <td>0</td>\n",
       "      <td>6.8</td>\n",
       "      <td>0.620</td>\n",
       "      <td>0.08</td>\n",
       "      <td>1.9</td>\n",
       "      <td>0.068</td>\n",
       "      <td>28.0</td>\n",
       "      <td>38.0</td>\n",
       "      <td>0.99651</td>\n",
       "      <td>3.42</td>\n",
       "      <td>0.82</td>\n",
       "      <td>9.5</td>\n",
       "      <td>0</td>\n",
       "    </tr>\n",
       "    <tr>\n",
       "      <th>6492</th>\n",
       "      <td>0</td>\n",
       "      <td>6.2</td>\n",
       "      <td>0.600</td>\n",
       "      <td>0.08</td>\n",
       "      <td>2.0</td>\n",
       "      <td>0.090</td>\n",
       "      <td>32.0</td>\n",
       "      <td>44.0</td>\n",
       "      <td>0.99490</td>\n",
       "      <td>3.45</td>\n",
       "      <td>0.58</td>\n",
       "      <td>10.5</td>\n",
       "      <td>0</td>\n",
       "    </tr>\n",
       "    <tr>\n",
       "      <th>6494</th>\n",
       "      <td>0</td>\n",
       "      <td>6.3</td>\n",
       "      <td>0.510</td>\n",
       "      <td>0.13</td>\n",
       "      <td>2.3</td>\n",
       "      <td>0.076</td>\n",
       "      <td>29.0</td>\n",
       "      <td>40.0</td>\n",
       "      <td>0.99574</td>\n",
       "      <td>3.42</td>\n",
       "      <td>0.75</td>\n",
       "      <td>11.0</td>\n",
       "      <td>0</td>\n",
       "    </tr>\n",
       "    <tr>\n",
       "      <th>6495</th>\n",
       "      <td>0</td>\n",
       "      <td>5.9</td>\n",
       "      <td>0.645</td>\n",
       "      <td>0.12</td>\n",
       "      <td>2.0</td>\n",
       "      <td>0.075</td>\n",
       "      <td>32.0</td>\n",
       "      <td>44.0</td>\n",
       "      <td>0.99547</td>\n",
       "      <td>3.57</td>\n",
       "      <td>0.71</td>\n",
       "      <td>10.2</td>\n",
       "      <td>0</td>\n",
       "    </tr>\n",
       "    <tr>\n",
       "      <th>6496</th>\n",
       "      <td>0</td>\n",
       "      <td>6.0</td>\n",
       "      <td>0.310</td>\n",
       "      <td>0.47</td>\n",
       "      <td>3.6</td>\n",
       "      <td>0.067</td>\n",
       "      <td>18.0</td>\n",
       "      <td>42.0</td>\n",
       "      <td>0.99549</td>\n",
       "      <td>3.39</td>\n",
       "      <td>0.66</td>\n",
       "      <td>11.0</td>\n",
       "      <td>0</td>\n",
       "    </tr>\n",
       "  </tbody>\n",
       "</table>\n",
       "<p>6463 rows × 13 columns</p>\n",
       "</div>"
      ],
      "text/plain": [
       "     white_wine  fixed acidity  volatile acidity  citric acid  residual sugar  \\\n",
       "0             1            7.0             0.270         0.36            20.7   \n",
       "1             1            6.3             0.300         0.34             1.6   \n",
       "2             1            8.1             0.280         0.40             6.9   \n",
       "3             1            7.2             0.230         0.32             8.5   \n",
       "4             1            7.2             0.230         0.32             8.5   \n",
       "...         ...            ...               ...          ...             ...   \n",
       "6491          0            6.8             0.620         0.08             1.9   \n",
       "6492          0            6.2             0.600         0.08             2.0   \n",
       "6494          0            6.3             0.510         0.13             2.3   \n",
       "6495          0            5.9             0.645         0.12             2.0   \n",
       "6496          0            6.0             0.310         0.47             3.6   \n",
       "\n",
       "      chlorides  free sulfur dioxide  total sulfur dioxide  density    pH  \\\n",
       "0         0.045                 45.0                 170.0  1.00100  3.00   \n",
       "1         0.049                 14.0                 132.0  0.99400  3.30   \n",
       "2         0.050                 30.0                  97.0  0.99510  3.26   \n",
       "3         0.058                 47.0                 186.0  0.99560  3.19   \n",
       "4         0.058                 47.0                 186.0  0.99560  3.19   \n",
       "...         ...                  ...                   ...      ...   ...   \n",
       "6491      0.068                 28.0                  38.0  0.99651  3.42   \n",
       "6492      0.090                 32.0                  44.0  0.99490  3.45   \n",
       "6494      0.076                 29.0                  40.0  0.99574  3.42   \n",
       "6495      0.075                 32.0                  44.0  0.99547  3.57   \n",
       "6496      0.067                 18.0                  42.0  0.99549  3.39   \n",
       "\n",
       "      sulphates  alcohol  quality  \n",
       "0          0.45      8.8        0  \n",
       "1          0.49      9.5        0  \n",
       "2          0.44     10.1        0  \n",
       "3          0.40      9.9        0  \n",
       "4          0.40      9.9        0  \n",
       "...         ...      ...      ...  \n",
       "6491       0.82      9.5        0  \n",
       "6492       0.58     10.5        0  \n",
       "6494       0.75     11.0        0  \n",
       "6495       0.71     10.2        0  \n",
       "6496       0.66     11.0        0  \n",
       "\n",
       "[6463 rows x 13 columns]"
      ]
     },
     "execution_count": 10,
     "metadata": {},
     "output_type": "execute_result"
    }
   ],
   "source": [
    "wine_data.loc[wine_data[\"quality\"] <= 6, \"quality\"] = 0\n",
    "wine_data.loc[wine_data[\"quality\"] >= 7, \"quality\"] = 1\n",
    "wine_data"
   ]
  },
  {
   "cell_type": "markdown",
   "metadata": {},
   "source": [
    "## How many Good Wines?"
   ]
  },
  {
   "cell_type": "code",
   "execution_count": 11,
   "metadata": {},
   "outputs": [
    {
     "data": {
      "text/plain": [
       "1271"
      ]
     },
     "execution_count": 11,
     "metadata": {},
     "output_type": "execute_result"
    }
   ],
   "source": [
    "(wine_data['quality'] == 1).sum()"
   ]
  },
  {
   "cell_type": "markdown",
   "metadata": {},
   "source": [
    "## Normalize Our Data"
   ]
  },
  {
   "cell_type": "markdown",
   "metadata": {},
   "source": [
    "We will convert our non-numeric data into numbers but all of our data is on different scales. We normalize our data so that it is using a common scale. We can do this while also not distorting the differences in the wide range of values. We will convert all values to between 0 and 1 while preserving the original distribution.\n",
    "\n",
    "We do this because machine learning algorithms work better when features have a similar scale."
   ]
  },
  {
   "cell_type": "code",
   "execution_count": 12,
   "metadata": {},
   "outputs": [],
   "source": [
    "ct = make_column_transformer(\n",
    "    (MinMaxScaler(), [\"fixed acidity\", \"volatile acidity\", \"citric acid\",\n",
    "     \"residual sugar\", \"chlorides\", \"free sulfur dioxide\",\n",
    "     \"total sulfur dioxide\", \"density\", \"pH\", \"sulphates\",\n",
    "     \"alcohol\"]), # Normalize these columns\n",
    ")"
   ]
  },
  {
   "cell_type": "markdown",
   "metadata": {},
   "source": [
    "## Separate Features & Labels"
   ]
  },
  {
   "cell_type": "code",
   "execution_count": 13,
   "metadata": {},
   "outputs": [
    {
     "data": {
      "text/html": [
       "<div>\n",
       "<style scoped>\n",
       "    .dataframe tbody tr th:only-of-type {\n",
       "        vertical-align: middle;\n",
       "    }\n",
       "\n",
       "    .dataframe tbody tr th {\n",
       "        vertical-align: top;\n",
       "    }\n",
       "\n",
       "    .dataframe thead th {\n",
       "        text-align: right;\n",
       "    }\n",
       "</style>\n",
       "<table border=\"1\" class=\"dataframe\">\n",
       "  <thead>\n",
       "    <tr style=\"text-align: right;\">\n",
       "      <th></th>\n",
       "      <th>white_wine</th>\n",
       "      <th>fixed acidity</th>\n",
       "      <th>volatile acidity</th>\n",
       "      <th>citric acid</th>\n",
       "      <th>residual sugar</th>\n",
       "      <th>chlorides</th>\n",
       "      <th>free sulfur dioxide</th>\n",
       "      <th>total sulfur dioxide</th>\n",
       "      <th>density</th>\n",
       "      <th>pH</th>\n",
       "      <th>sulphates</th>\n",
       "      <th>alcohol</th>\n",
       "    </tr>\n",
       "  </thead>\n",
       "  <tbody>\n",
       "    <tr>\n",
       "      <th>0</th>\n",
       "      <td>1</td>\n",
       "      <td>7.0</td>\n",
       "      <td>0.270</td>\n",
       "      <td>0.36</td>\n",
       "      <td>20.7</td>\n",
       "      <td>0.045</td>\n",
       "      <td>45.0</td>\n",
       "      <td>170.0</td>\n",
       "      <td>1.00100</td>\n",
       "      <td>3.00</td>\n",
       "      <td>0.45</td>\n",
       "      <td>8.8</td>\n",
       "    </tr>\n",
       "    <tr>\n",
       "      <th>1</th>\n",
       "      <td>1</td>\n",
       "      <td>6.3</td>\n",
       "      <td>0.300</td>\n",
       "      <td>0.34</td>\n",
       "      <td>1.6</td>\n",
       "      <td>0.049</td>\n",
       "      <td>14.0</td>\n",
       "      <td>132.0</td>\n",
       "      <td>0.99400</td>\n",
       "      <td>3.30</td>\n",
       "      <td>0.49</td>\n",
       "      <td>9.5</td>\n",
       "    </tr>\n",
       "    <tr>\n",
       "      <th>2</th>\n",
       "      <td>1</td>\n",
       "      <td>8.1</td>\n",
       "      <td>0.280</td>\n",
       "      <td>0.40</td>\n",
       "      <td>6.9</td>\n",
       "      <td>0.050</td>\n",
       "      <td>30.0</td>\n",
       "      <td>97.0</td>\n",
       "      <td>0.99510</td>\n",
       "      <td>3.26</td>\n",
       "      <td>0.44</td>\n",
       "      <td>10.1</td>\n",
       "    </tr>\n",
       "    <tr>\n",
       "      <th>3</th>\n",
       "      <td>1</td>\n",
       "      <td>7.2</td>\n",
       "      <td>0.230</td>\n",
       "      <td>0.32</td>\n",
       "      <td>8.5</td>\n",
       "      <td>0.058</td>\n",
       "      <td>47.0</td>\n",
       "      <td>186.0</td>\n",
       "      <td>0.99560</td>\n",
       "      <td>3.19</td>\n",
       "      <td>0.40</td>\n",
       "      <td>9.9</td>\n",
       "    </tr>\n",
       "    <tr>\n",
       "      <th>4</th>\n",
       "      <td>1</td>\n",
       "      <td>7.2</td>\n",
       "      <td>0.230</td>\n",
       "      <td>0.32</td>\n",
       "      <td>8.5</td>\n",
       "      <td>0.058</td>\n",
       "      <td>47.0</td>\n",
       "      <td>186.0</td>\n",
       "      <td>0.99560</td>\n",
       "      <td>3.19</td>\n",
       "      <td>0.40</td>\n",
       "      <td>9.9</td>\n",
       "    </tr>\n",
       "    <tr>\n",
       "      <th>...</th>\n",
       "      <td>...</td>\n",
       "      <td>...</td>\n",
       "      <td>...</td>\n",
       "      <td>...</td>\n",
       "      <td>...</td>\n",
       "      <td>...</td>\n",
       "      <td>...</td>\n",
       "      <td>...</td>\n",
       "      <td>...</td>\n",
       "      <td>...</td>\n",
       "      <td>...</td>\n",
       "      <td>...</td>\n",
       "    </tr>\n",
       "    <tr>\n",
       "      <th>6491</th>\n",
       "      <td>0</td>\n",
       "      <td>6.8</td>\n",
       "      <td>0.620</td>\n",
       "      <td>0.08</td>\n",
       "      <td>1.9</td>\n",
       "      <td>0.068</td>\n",
       "      <td>28.0</td>\n",
       "      <td>38.0</td>\n",
       "      <td>0.99651</td>\n",
       "      <td>3.42</td>\n",
       "      <td>0.82</td>\n",
       "      <td>9.5</td>\n",
       "    </tr>\n",
       "    <tr>\n",
       "      <th>6492</th>\n",
       "      <td>0</td>\n",
       "      <td>6.2</td>\n",
       "      <td>0.600</td>\n",
       "      <td>0.08</td>\n",
       "      <td>2.0</td>\n",
       "      <td>0.090</td>\n",
       "      <td>32.0</td>\n",
       "      <td>44.0</td>\n",
       "      <td>0.99490</td>\n",
       "      <td>3.45</td>\n",
       "      <td>0.58</td>\n",
       "      <td>10.5</td>\n",
       "    </tr>\n",
       "    <tr>\n",
       "      <th>6494</th>\n",
       "      <td>0</td>\n",
       "      <td>6.3</td>\n",
       "      <td>0.510</td>\n",
       "      <td>0.13</td>\n",
       "      <td>2.3</td>\n",
       "      <td>0.076</td>\n",
       "      <td>29.0</td>\n",
       "      <td>40.0</td>\n",
       "      <td>0.99574</td>\n",
       "      <td>3.42</td>\n",
       "      <td>0.75</td>\n",
       "      <td>11.0</td>\n",
       "    </tr>\n",
       "    <tr>\n",
       "      <th>6495</th>\n",
       "      <td>0</td>\n",
       "      <td>5.9</td>\n",
       "      <td>0.645</td>\n",
       "      <td>0.12</td>\n",
       "      <td>2.0</td>\n",
       "      <td>0.075</td>\n",
       "      <td>32.0</td>\n",
       "      <td>44.0</td>\n",
       "      <td>0.99547</td>\n",
       "      <td>3.57</td>\n",
       "      <td>0.71</td>\n",
       "      <td>10.2</td>\n",
       "    </tr>\n",
       "    <tr>\n",
       "      <th>6496</th>\n",
       "      <td>0</td>\n",
       "      <td>6.0</td>\n",
       "      <td>0.310</td>\n",
       "      <td>0.47</td>\n",
       "      <td>3.6</td>\n",
       "      <td>0.067</td>\n",
       "      <td>18.0</td>\n",
       "      <td>42.0</td>\n",
       "      <td>0.99549</td>\n",
       "      <td>3.39</td>\n",
       "      <td>0.66</td>\n",
       "      <td>11.0</td>\n",
       "    </tr>\n",
       "  </tbody>\n",
       "</table>\n",
       "<p>6463 rows × 12 columns</p>\n",
       "</div>"
      ],
      "text/plain": [
       "     white_wine  fixed acidity  volatile acidity  citric acid  residual sugar  \\\n",
       "0             1            7.0             0.270         0.36            20.7   \n",
       "1             1            6.3             0.300         0.34             1.6   \n",
       "2             1            8.1             0.280         0.40             6.9   \n",
       "3             1            7.2             0.230         0.32             8.5   \n",
       "4             1            7.2             0.230         0.32             8.5   \n",
       "...         ...            ...               ...          ...             ...   \n",
       "6491          0            6.8             0.620         0.08             1.9   \n",
       "6492          0            6.2             0.600         0.08             2.0   \n",
       "6494          0            6.3             0.510         0.13             2.3   \n",
       "6495          0            5.9             0.645         0.12             2.0   \n",
       "6496          0            6.0             0.310         0.47             3.6   \n",
       "\n",
       "      chlorides  free sulfur dioxide  total sulfur dioxide  density    pH  \\\n",
       "0         0.045                 45.0                 170.0  1.00100  3.00   \n",
       "1         0.049                 14.0                 132.0  0.99400  3.30   \n",
       "2         0.050                 30.0                  97.0  0.99510  3.26   \n",
       "3         0.058                 47.0                 186.0  0.99560  3.19   \n",
       "4         0.058                 47.0                 186.0  0.99560  3.19   \n",
       "...         ...                  ...                   ...      ...   ...   \n",
       "6491      0.068                 28.0                  38.0  0.99651  3.42   \n",
       "6492      0.090                 32.0                  44.0  0.99490  3.45   \n",
       "6494      0.076                 29.0                  40.0  0.99574  3.42   \n",
       "6495      0.075                 32.0                  44.0  0.99547  3.57   \n",
       "6496      0.067                 18.0                  42.0  0.99549  3.39   \n",
       "\n",
       "      sulphates  alcohol  \n",
       "0          0.45      8.8  \n",
       "1          0.49      9.5  \n",
       "2          0.44     10.1  \n",
       "3          0.40      9.9  \n",
       "4          0.40      9.9  \n",
       "...         ...      ...  \n",
       "6491       0.82      9.5  \n",
       "6492       0.58     10.5  \n",
       "6494       0.75     11.0  \n",
       "6495       0.71     10.2  \n",
       "6496       0.66     11.0  \n",
       "\n",
       "[6463 rows x 12 columns]"
      ]
     },
     "execution_count": 13,
     "metadata": {},
     "output_type": "execute_result"
    }
   ],
   "source": [
    "X = wine_data.drop(\"quality\", axis=1) # Features\n",
    "y = wine_data[\"quality\"] # Label\n",
    "X"
   ]
  },
  {
   "cell_type": "markdown",
   "metadata": {},
   "source": [
    "# Split into Training & Test"
   ]
  },
  {
   "cell_type": "code",
   "execution_count": 14,
   "metadata": {},
   "outputs": [
    {
     "data": {
      "text/plain": [
       "5170.400000000001"
      ]
     },
     "execution_count": 14,
     "metadata": {},
     "output_type": "execute_result"
    }
   ],
   "source": [
    "# Get first 80%\n",
    "len(wine_data) * .80"
   ]
  },
  {
   "cell_type": "code",
   "execution_count": 15,
   "metadata": {},
   "outputs": [],
   "source": [
    "# Build train (80%) & test (20%) datasets\n",
    "X_train, X_test, y_train, y_test = train_test_split(X, y, test_size=0.2, \n",
    "random_state=66)"
   ]
  },
  {
   "cell_type": "markdown",
   "metadata": {},
   "source": [
    "## Transform Training & Test Data"
   ]
  },
  {
   "cell_type": "code",
   "execution_count": 16,
   "metadata": {},
   "outputs": [],
   "source": [
    "# Transform training data \n",
    "ct.fit(X_train)\n",
    "\n",
    "# Transform training and test data with normalization \n",
    "# (MinMaxScalar) \n",
    "X_train_normal = ct.transform(X_train)\n",
    "X_test_normal = ct.transform(X_test)"
   ]
  },
  {
   "cell_type": "code",
   "execution_count": 17,
   "metadata": {},
   "outputs": [
    {
     "data": {
      "text/plain": [
       "array([[0.21487603, 0.11333333, 0.22289157, ..., 0.34645669, 0.1011236 ,\n",
       "        0.44927536],\n",
       "       [0.23966942, 0.12666667, 0.18674699, ..., 0.40944882, 0.19101124,\n",
       "        0.23188406],\n",
       "       [0.63636364, 0.15333333, 0.30722892, ..., 0.22834646, 0.3988764 ,\n",
       "        0.26086957],\n",
       "       ...,\n",
       "       [0.27272727, 0.12      , 0.20481928, ..., 0.25984252, 0.1741573 ,\n",
       "        0.15942029],\n",
       "       [0.18181818, 0.08      , 0.14457831, ..., 0.4488189 , 0.14044944,\n",
       "        0.50724638],\n",
       "       [0.30578512, 0.07333333, 0.20481928, ..., 0.28346457, 0.15168539,\n",
       "        0.44927536]])"
      ]
     },
     "execution_count": 17,
     "metadata": {},
     "output_type": "execute_result"
    }
   ],
   "source": [
    "X_train_normal"
   ]
  },
  {
   "cell_type": "markdown",
   "metadata": {},
   "source": [
    "## TensorFlow Playground"
   ]
  },
  {
   "cell_type": "markdown",
   "metadata": {},
   "source": [
    "Reproduce results from https://playground.tensorflow.org/ using ReLU with code.\n",
    "\n",
    "- Ratio of Training to Test : 80%\n",
    "- Learning Rate : 0.001\n",
    "- Activiation : ReLU\n",
    "- Regularization : None\n",
    "- Regularization Rate : 0\n",
    "- Problem Type : Classification\n",
    "\n",
    "ReLU, Tanh and Sigmoid are for non-linear data\n",
    "When analyzing pictures a neural network draws many straight and non-straight lines around objects in images"
   ]
  },
  {
   "cell_type": "code",
   "execution_count": 22,
   "metadata": {},
   "outputs": [
    {
     "data": {
      "text/plain": [
       "[<matplotlib.lines.Line2D at 0x13720c03760>]"
      ]
     },
     "execution_count": 22,
     "metadata": {},
     "output_type": "execute_result"
    },
    {
     "data": {
      "image/png": "[encoded data removed]",
      "text/plain": [
       "<Figure size 432x288 with 1 Axes>"
      ]
     },
     "metadata": {
      "needs_background": "light"
     },
     "output_type": "display_data"
    }
   ],
   "source": [
    "# Create a example tensor with values from -15 to 15\n",
    "samp_ten = tf.cast(tf.range(-15, 15), tf.float32)\n",
    "plt.plot(samp_ten)"
   ]
  },
  {
   "cell_type": "code",
   "execution_count": 20,
   "metadata": {},
   "outputs": [
    {
     "data": {
      "text/plain": [
       "[<matplotlib.lines.Line2D at 0x1368108a4d0>]"
      ]
     },
     "execution_count": 20,
     "metadata": {},
     "output_type": "execute_result"
    },
    {
     "data": {
      "image/png": "[encoded data removed]",
      "text/plain": [
       "<Figure size 432x288 with 1 Axes>"
      ]
     },
     "metadata": {
      "needs_background": "light"
     },
     "output_type": "display_data"
    }
   ],
   "source": [
    "# Turn negative values to zero and other wise leave them as they are\n",
    "def relu(x):\n",
    "    return tf.maximum(0, x)\n",
    "\n",
    "# Pass toy tensor to our relu function\n",
    "plt.plot(relu(samp_ten))\n",
    "\n",
    "# When we give our model non-linear functions it's able to find patterns\n",
    "# in non-linear data (Neural networks use linear and non-linear activations\n",
    "# to find patterns in data)\n",
    "# Now we can draw patterns that are curved and bent"
   ]
  },
  {
   "cell_type": "code",
   "execution_count": 23,
   "metadata": {},
   "outputs": [
    {
     "data": {
      "text/plain": [
       "[<matplotlib.lines.Line2D at 0x13720c73280>]"
      ]
     },
     "execution_count": 23,
     "metadata": {},
     "output_type": "execute_result"
    },
    {
     "data": {
      "image/png": "[encoded data removed]",
      "text/plain": [
       "<Figure size 432x288 with 1 Axes>"
      ]
     },
     "metadata": {
      "needs_background": "light"
     },
     "output_type": "display_data"
    }
   ],
   "source": [
    "# Replicate sigmoid : sigmoid(x) = 1 / (1 + exp(-x))\n",
    "def sigmoid(x):\n",
    "    return 1 / (1 + tf.exp(-x))\n",
    "\n",
    "# Use the sigmoid function on our toy tensor\n",
    "# This allows use to draw non-straight lines\n",
    "plt.plot(sigmoid(samp_ten))"
   ]
  },
  {
   "cell_type": "code",
   "execution_count": 24,
   "metadata": {},
   "outputs": [
    {
     "data": {
      "text/plain": [
       "[<matplotlib.lines.Line2D at 0x13720cde710>]"
      ]
     },
     "execution_count": 24,
     "metadata": {},
     "output_type": "execute_result"
    },
    {
     "data": {
      "image/png": "[encoded data removed]",
      "text/plain": [
       "<Figure size 432x288 with 1 Axes>"
      ]
     },
     "metadata": {
      "needs_background": "light"
     },
     "output_type": "display_data"
    }
   ],
   "source": [
    "def tanh(x):\n",
    "    return tf.tanh(x)\n",
    "\n",
    "# Pass toy tensor to our tanh function\n",
    "plt.plot(tanh(samp_ten))"
   ]
  },
  {
   "cell_type": "markdown",
   "metadata": {},
   "source": [
    "## Build Model"
   ]
  },
  {
   "cell_type": "code",
   "execution_count": null,
   "metadata": {},
   "outputs": [
    {
     "name": "stdout",
     "output_type": "stream",
     "text": [
      "Epoch 1/100\n",
      "162/162 [==============================] - 1s 6ms/step - loss: 0.6386 - accuracy: 0.7749\n",
      "Epoch 2/100\n",
      "162/162 [==============================] - 1s 6ms/step - loss: 0.5157 - accuracy: 0.8056\n",
      "Epoch 3/100\n",
      "162/162 [==============================] - 1s 5ms/step - loss: 0.4901 - accuracy: 0.8056\n",
      "Epoch 4/100\n",
      "162/162 [==============================] - 1s 6ms/step - loss: 0.4839 - accuracy: 0.8056\n",
      "Epoch 5/100\n",
      "162/162 [==============================] - 1s 6ms/step - loss: 0.4676 - accuracy: 0.8056\n",
      "Epoch 6/100\n",
      "162/162 [==============================] - 1s 4ms/step - loss: 0.4435 - accuracy: 0.8056\n",
      "Epoch 7/100\n",
      "162/162 [==============================] - 1s 4ms/step - loss: 0.4242 - accuracy: 0.8056\n",
      "Epoch 8/100\n",
      "162/162 [==============================] - 1s 5ms/step - loss: 0.4121 - accuracy: 0.8101\n",
      "Epoch 9/100\n",
      "162/162 [==============================] - 1s 5ms/step - loss: 0.4062 - accuracy: 0.8151\n",
      "Epoch 10/100\n",
      "162/162 [==============================] - 1s 5ms/step - loss: 0.4028 - accuracy: 0.8143\n",
      "Epoch 11/100\n",
      "162/162 [==============================] - 1s 5ms/step - loss: 0.4007 - accuracy: 0.8155\n",
      "Epoch 12/100\n",
      "162/162 [==============================] - 1s 5ms/step - loss: 0.3989 - accuracy: 0.8133\n",
      "Epoch 13/100\n",
      "162/162 [==============================] - 1s 5ms/step - loss: 0.3978 - accuracy: 0.8120\n",
      "Epoch 14/100\n",
      "162/162 [==============================] - 1s 5ms/step - loss: 0.3965 - accuracy: 0.8126\n",
      "Epoch 15/100\n",
      "162/162 [==============================] - 1s 5ms/step - loss: 0.3958 - accuracy: 0.8145\n",
      "Epoch 16/100\n",
      "162/162 [==============================] - 1s 5ms/step - loss: 0.3947 - accuracy: 0.8172\n",
      "Epoch 17/100\n",
      "162/162 [==============================] - 1s 5ms/step - loss: 0.3939 - accuracy: 0.8141\n",
      "Epoch 18/100\n",
      "162/162 [==============================] - 1s 5ms/step - loss: 0.3942 - accuracy: 0.8170\n",
      "Epoch 19/100\n",
      "162/162 [==============================] - 1s 5ms/step - loss: 0.3925 - accuracy: 0.8166\n",
      "Epoch 20/100\n",
      "162/162 [==============================] - 1s 6ms/step - loss: 0.3921 - accuracy: 0.8155\n",
      "Epoch 21/100\n",
      "162/162 [==============================] - 1s 6ms/step - loss: 0.3914 - accuracy: 0.8180\n",
      "Epoch 22/100\n",
      "162/162 [==============================] - 1s 6ms/step - loss: 0.3910 - accuracy: 0.8191\n",
      "Epoch 23/100\n",
      "162/162 [==============================] - 1s 6ms/step - loss: 0.3907 - accuracy: 0.8161\n",
      "Epoch 24/100\n",
      "162/162 [==============================] - 1s 6ms/step - loss: 0.3898 - accuracy: 0.8195\n",
      "Epoch 25/100\n",
      "162/162 [==============================] - 1s 6ms/step - loss: 0.3894 - accuracy: 0.8191\n",
      "Epoch 26/100\n",
      "162/162 [==============================] - 1s 6ms/step - loss: 0.3892 - accuracy: 0.8184\n",
      "Epoch 27/100\n",
      "162/162 [==============================] - 1s 6ms/step - loss: 0.3885 - accuracy: 0.8215\n",
      "Epoch 28/100\n",
      "162/162 [==============================] - 1s 6ms/step - loss: 0.3882 - accuracy: 0.8209\n",
      "Epoch 29/100\n",
      "162/162 [==============================] - 1s 6ms/step - loss: 0.3875 - accuracy: 0.8186\n",
      "Epoch 30/100\n",
      "162/162 [==============================] - 1s 6ms/step - loss: 0.3872 - accuracy: 0.8215\n",
      "Epoch 31/100\n",
      "162/162 [==============================] - 1s 6ms/step - loss: 0.3872 - accuracy: 0.8191\n",
      "Epoch 32/100\n",
      "162/162 [==============================] - 1s 7ms/step - loss: 0.3863 - accuracy: 0.8213\n",
      "Epoch 33/100\n",
      "162/162 [==============================] - 1s 5ms/step - loss: 0.3862 - accuracy: 0.8213\n",
      "Epoch 34/100\n",
      "162/162 [==============================] - 1s 5ms/step - loss: 0.3862 - accuracy: 0.8219\n",
      "Epoch 35/100\n",
      "162/162 [==============================] - 1s 5ms/step - loss: 0.3861 - accuracy: 0.8217\n",
      "Epoch 36/100\n",
      "162/162 [==============================] - 1s 5ms/step - loss: 0.3858 - accuracy: 0.8199\n",
      "Epoch 37/100\n",
      "162/162 [==============================] - 1s 5ms/step - loss: 0.3853 - accuracy: 0.8221\n",
      "Epoch 38/100\n",
      "162/162 [==============================] - 1s 5ms/step - loss: 0.3852 - accuracy: 0.8217\n",
      "Epoch 39/100\n",
      "162/162 [==============================] - 1s 5ms/step - loss: 0.3847 - accuracy: 0.8222\n",
      "Epoch 40/100\n",
      "162/162 [==============================] - 1s 5ms/step - loss: 0.3846 - accuracy: 0.8226\n",
      "Epoch 41/100\n",
      "162/162 [==============================] - 1s 5ms/step - loss: 0.3845 - accuracy: 0.8201\n",
      "Epoch 42/100\n",
      "162/162 [==============================] - 1s 5ms/step - loss: 0.3840 - accuracy: 0.8224\n",
      "Epoch 43/100\n",
      "162/162 [==============================] - 1s 5ms/step - loss: 0.3839 - accuracy: 0.8205\n",
      "Epoch 44/100\n",
      "162/162 [==============================] - 1s 6ms/step - loss: 0.3834 - accuracy: 0.8219\n",
      "Epoch 45/100\n",
      "162/162 [==============================] - 1s 5ms/step - loss: 0.3829 - accuracy: 0.8215\n",
      "Epoch 46/100\n",
      "162/162 [==============================] - 1s 5ms/step - loss: 0.3830 - accuracy: 0.8232\n",
      "Epoch 47/100\n",
      "162/162 [==============================] - 1s 5ms/step - loss: 0.3829 - accuracy: 0.8217\n",
      "Epoch 48/100\n",
      "162/162 [==============================] - 1s 6ms/step - loss: 0.3827 - accuracy: 0.8234\n",
      "Epoch 49/100\n",
      "162/162 [==============================] - 1s 5ms/step - loss: 0.3829 - accuracy: 0.8236\n",
      "Epoch 50/100\n",
      "162/162 [==============================] - 1s 5ms/step - loss: 0.3824 - accuracy: 0.8242\n",
      "Epoch 51/100\n",
      "162/162 [==============================] - 1s 6ms/step - loss: 0.3817 - accuracy: 0.8248\n",
      "Epoch 52/100\n",
      "162/162 [==============================] - 1s 5ms/step - loss: 0.3820 - accuracy: 0.8232\n",
      "Epoch 53/100\n",
      "162/162 [==============================] - 1s 5ms/step - loss: 0.3816 - accuracy: 0.8228\n",
      "Epoch 54/100\n",
      "162/162 [==============================] - 1s 5ms/step - loss: 0.3819 - accuracy: 0.8221\n",
      "Epoch 55/100\n",
      "162/162 [==============================] - 1s 6ms/step - loss: 0.3815 - accuracy: 0.8207\n",
      "Epoch 56/100\n",
      "162/162 [==============================] - 1s 5ms/step - loss: 0.3815 - accuracy: 0.8234\n",
      "Epoch 57/100\n",
      "162/162 [==============================] - 1s 6ms/step - loss: 0.3814 - accuracy: 0.8238\n",
      "Epoch 58/100\n",
      "162/162 [==============================] - 1s 5ms/step - loss: 0.3810 - accuracy: 0.8230\n",
      "Epoch 59/100\n",
      "162/162 [==============================] - 1s 6ms/step - loss: 0.3808 - accuracy: 0.8228\n",
      "Epoch 60/100\n",
      "162/162 [==============================] - 1s 5ms/step - loss: 0.3807 - accuracy: 0.8240\n",
      "Epoch 61/100\n",
      "162/162 [==============================] - 1s 5ms/step - loss: 0.3808 - accuracy: 0.8232\n",
      "Epoch 62/100\n",
      "162/162 [==============================] - 1s 5ms/step - loss: 0.3804 - accuracy: 0.8207\n",
      "Epoch 63/100\n",
      "162/162 [==============================] - 1s 5ms/step - loss: 0.3800 - accuracy: 0.8246\n",
      "Epoch 64/100\n",
      "162/162 [==============================] - 1s 5ms/step - loss: 0.3797 - accuracy: 0.8238\n",
      "Epoch 65/100\n",
      "162/162 [==============================] - 1s 5ms/step - loss: 0.3798 - accuracy: 0.8240\n",
      "Epoch 66/100\n",
      "162/162 [==============================] - 1s 5ms/step - loss: 0.3797 - accuracy: 0.8236\n",
      "Epoch 67/100\n",
      "162/162 [==============================] - 1s 5ms/step - loss: 0.3792 - accuracy: 0.8238\n",
      "Epoch 68/100\n",
      "162/162 [==============================] - 1s 5ms/step - loss: 0.3795 - accuracy: 0.8236\n",
      "Epoch 69/100\n",
      "162/162 [==============================] - 1s 5ms/step - loss: 0.3789 - accuracy: 0.8236\n",
      "Epoch 70/100\n",
      "162/162 [==============================] - 1s 5ms/step - loss: 0.3791 - accuracy: 0.8255\n",
      "Epoch 71/100\n",
      "162/162 [==============================] - 1s 6ms/step - loss: 0.3791 - accuracy: 0.8240\n",
      "Epoch 72/100\n",
      "162/162 [==============================] - 1s 5ms/step - loss: 0.3787 - accuracy: 0.8248\n",
      "Epoch 73/100\n",
      "162/162 [==============================] - 1s 6ms/step - loss: 0.3786 - accuracy: 0.8248\n",
      "Epoch 74/100\n",
      "162/162 [==============================] - 1s 5ms/step - loss: 0.3787 - accuracy: 0.8246\n",
      "Epoch 75/100\n",
      "162/162 [==============================] - 1s 5ms/step - loss: 0.3782 - accuracy: 0.8240\n",
      "Epoch 76/100\n",
      "162/162 [==============================] - 1s 5ms/step - loss: 0.3780 - accuracy: 0.8224\n",
      "Epoch 77/100\n",
      "162/162 [==============================] - 1s 5ms/step - loss: 0.3776 - accuracy: 0.8234\n",
      "Epoch 78/100\n",
      "162/162 [==============================] - 1s 5ms/step - loss: 0.3778 - accuracy: 0.8244\n",
      "Epoch 79/100\n",
      "162/162 [==============================] - 1s 5ms/step - loss: 0.3776 - accuracy: 0.8221\n",
      "Epoch 80/100\n",
      "162/162 [==============================] - 1s 5ms/step - loss: 0.3775 - accuracy: 0.8236\n",
      "Epoch 81/100\n",
      "162/162 [==============================] - 1s 5ms/step - loss: 0.3778 - accuracy: 0.8265\n",
      "Epoch 82/100\n",
      "162/162 [==============================] - 1s 6ms/step - loss: 0.3778 - accuracy: 0.8248\n",
      "Epoch 83/100\n",
      "162/162 [==============================] - 1s 5ms/step - loss: 0.3768 - accuracy: 0.8246\n",
      "Epoch 84/100\n",
      "162/162 [==============================] - 1s 6ms/step - loss: 0.3771 - accuracy: 0.8244\n",
      "Epoch 85/100\n",
      "162/162 [==============================] - 1s 6ms/step - loss: 0.3770 - accuracy: 0.8255\n",
      "Epoch 86/100\n",
      "162/162 [==============================] - 1s 5ms/step - loss: 0.3769 - accuracy: 0.8236\n",
      "Epoch 87/100\n",
      "162/162 [==============================] - 1s 5ms/step - loss: 0.3763 - accuracy: 0.8228\n",
      "Epoch 88/100\n",
      "162/162 [==============================] - 1s 5ms/step - loss: 0.3766 - accuracy: 0.8244\n",
      "Epoch 89/100\n",
      "162/162 [==============================] - 1s 5ms/step - loss: 0.3768 - accuracy: 0.8222\n",
      "Epoch 90/100\n",
      "162/162 [==============================] - 1s 5ms/step - loss: 0.3765 - accuracy: 0.8251\n",
      "Epoch 91/100\n",
      "162/162 [==============================] - 1s 5ms/step - loss: 0.3761 - accuracy: 0.8250\n",
      "Epoch 92/100\n",
      "162/162 [==============================] - 1s 5ms/step - loss: 0.3757 - accuracy: 0.8240\n",
      "Epoch 93/100\n",
      "162/162 [==============================] - 1s 5ms/step - loss: 0.3758 - accuracy: 0.8250\n",
      "Epoch 94/100\n",
      "162/162 [==============================] - 1s 5ms/step - loss: 0.3758 - accuracy: 0.8251\n",
      "Epoch 95/100\n",
      "162/162 [==============================] - 1s 5ms/step - loss: 0.3758 - accuracy: 0.8240\n",
      "Epoch 96/100\n",
      "162/162 [==============================] - 1s 6ms/step - loss: 0.3756 - accuracy: 0.8232\n",
      "Epoch 97/100\n",
      "162/162 [==============================] - 1s 6ms/step - loss: 0.3759 - accuracy: 0.8230\n",
      "Epoch 98/100\n",
      "162/162 [==============================] - 1s 6ms/step - loss: 0.3756 - accuracy: 0.8250\n",
      "Epoch 99/100\n",
      "162/162 [==============================] - 1s 6ms/step - loss: 0.3760 - accuracy: 0.8236\n",
      "Epoch 100/100\n",
      "162/162 [==============================] - 1s 6ms/step - loss: 0.3754 - accuracy: 0.8234\n"
     ]
    }
   ],
   "source": [
    "# Set random seed\n",
    "tf.random.set_seed(66)\n",
    "\n",
    "# Create a model\n",
    "# Activation functions help our network decide what is important data.\n",
    "# They receive data and add weightings to it and pass the results to other hidden layers\n",
    "# Depending on the error value the weights are updated\n",
    "model_1 = tf.keras.Sequential([\n",
    "  tf.keras.layers.Dense(4, activation=tf.keras.activations.relu), # hidden layer 1, ReLU activation\n",
    "  tf.keras.layers.Dense(4, activation=tf.keras.activations.relu), # hidden layer 2, ReLU activation\n",
    "  tf.keras.layers.Dense(1, activation=tf.keras.activations.sigmoid) # ouput layer, sigmoid activation\n",
    "])\n",
    "\n",
    "# Compile the model\n",
    "# Compile the model (Calc errors, optimize and evaluate)\n",
    "# Loss : Finds the average of the errors between predictions and \n",
    "# observed data (How incorrect are our predictions)\n",
    "# Adam : Optimizes our guesses by smoothing the predictions \n",
    "# to the observed data \n",
    "# Metrics test the accuracy of the model\n",
    "model_1.compile(loss=tf.keras.losses.binary_crossentropy,\n",
    "                optimizer=tf.keras.optimizers.Adam(),\n",
    "                metrics=['accuracy'])\n",
    "\n",
    "# Fit the model\n",
    "# Take the data and try to fit the data with 100 tries creating a trained model\n",
    "# An epoch is a full iteration over the training data\n",
    "history = model_1.fit(X_train_normal, y_train, epochs=100)"
   ]
  },
  {
   "cell_type": "markdown",
   "metadata": {},
   "source": [
    "- The features passed are converted into a 4 value vector\n",
    "- That vector is then turned into an additional optimized vector\n",
    "- Those are converted into a prediction of either good or bad wine"
   ]
  },
  {
   "cell_type": "markdown",
   "metadata": {},
   "source": [
    "## Evaluate Accuracy of Model"
   ]
  },
  {
   "cell_type": "code",
   "execution_count": null,
   "metadata": {},
   "outputs": [
    {
     "name": "stdout",
     "output_type": "stream",
     "text": [
      "162/162 [==============================] - 1s 3ms/step - loss: 0.3764 - accuracy: 0.8248\n"
     ]
    },
    {
     "data": {
      "text/plain": [
       "[0.3763878643512726, 0.8247582316398621]"
      ]
     },
     "execution_count": 47,
     "metadata": {},
     "output_type": "execute_result"
    }
   ],
   "source": [
    "model_1.evaluate(X_train_normal, y_train)"
   ]
  },
  {
   "cell_type": "markdown",
   "metadata": {},
   "source": [
    "## How to Improve Model"
   ]
  },
  {
   "cell_type": "markdown",
   "metadata": {},
   "source": [
    "- Fit on more data\n",
    "- Increase hidden units : Add weightings to get desired output\n",
    "- Try different activation functions : Helps decide what data is most important\n",
    "- Try different optimization functions : Optimize by smoothing data to expected results\n",
    "- Increase learning rate : How much to change the model based on estimated error\n",
    "- Fit longer : Increase the number of times we try to fit the data"
   ]
  },
  {
   "cell_type": "markdown",
   "metadata": {},
   "source": [
    "## Correlation Matrix"
   ]
  },
  {
   "cell_type": "code",
   "execution_count": null,
   "metadata": {},
   "outputs": [
    {
     "data": {
      "text/plain": [
       "<AxesSubplot:>"
      ]
     },
     "execution_count": 48,
     "metadata": {},
     "output_type": "execute_result"
    },
    {
     "data": {
      "image/png": "[encoded data removed]",
      "text/plain": [
       "<Figure size 2160x1440 with 2 Axes>"
      ]
     },
     "metadata": {
      "needs_background": "light"
     },
     "output_type": "display_data"
    }
   ],
   "source": [
    "# When we say data is correlated that means the data is related to each other. When a feature moves in a\n",
    "# certain direction a label also tends to move in that same direction\n",
    "plt.figure(figsize=(30, 20))\n",
    "sns.heatmap(wine_data.corr().abs(),  annot=True)"
   ]
  },
  {
   "cell_type": "markdown",
   "metadata": {},
   "source": [
    "Correlation matrix shows some correlation between quality and density and alcohol percentage."
   ]
  },
  {
   "cell_type": "markdown",
   "metadata": {},
   "source": [
    "## Plot Loss Curve"
   ]
  },
  {
   "cell_type": "code",
   "execution_count": null,
   "metadata": {},
   "outputs": [
    {
     "data": {
      "text/plain": [
       "Text(0.5, 1.0, 'Model 1 Loss Curve')"
      ]
     },
     "execution_count": 49,
     "metadata": {},
     "output_type": "execute_result"
    },
    {
     "data": {
      "image/png": "[encoded data removed]",
      "text/plain": [
       "<Figure size 432x288 with 1 Axes>"
      ]
     },
     "metadata": {
      "needs_background": "light"
     },
     "output_type": "display_data"
    }
   ],
   "source": [
    "pd.DataFrame(history.history).plot()\n",
    "plt.title(\"Model 1 Loss Curve\")"
   ]
  },
  {
   "cell_type": "markdown",
   "metadata": {},
   "source": [
    "## Use Callback to Find Ideal Learning Rate"
   ]
  },
  {
   "cell_type": "code",
   "execution_count": null,
   "metadata": {},
   "outputs": [
    {
     "name": "stdout",
     "output_type": "stream",
     "text": [
      "Epoch 1/100\n",
      "162/162 [==============================] - 1s 6ms/step - loss: 0.6945 - accuracy: 0.4956 - lr: 1.0000e-04\n",
      "Epoch 2/100\n",
      "162/162 [==============================] - 1s 6ms/step - loss: 0.6780 - accuracy: 0.7878 - lr: 1.1220e-04\n",
      "Epoch 3/100\n",
      "162/162 [==============================] - 1s 6ms/step - loss: 0.6640 - accuracy: 0.8035 - lr: 1.2589e-04\n",
      "Epoch 4/100\n",
      "162/162 [==============================] - 1s 6ms/step - loss: 0.6492 - accuracy: 0.8054 - lr: 1.4125e-04\n",
      "Epoch 5/100\n",
      "162/162 [==============================] - 1s 5ms/step - loss: 0.6304 - accuracy: 0.8056 - lr: 1.5849e-04\n",
      "Epoch 6/100\n",
      "162/162 [==============================] - 1s 5ms/step - loss: 0.6029 - accuracy: 0.8056 - lr: 1.7783e-04\n",
      "Epoch 7/100\n",
      "162/162 [==============================] - 1s 6ms/step - loss: 0.5694 - accuracy: 0.8056 - lr: 1.9953e-04\n",
      "Epoch 8/100\n",
      "162/162 [==============================] - 1s 6ms/step - loss: 0.5370 - accuracy: 0.8056 - lr: 2.2387e-04\n",
      "Epoch 9/100\n",
      "162/162 [==============================] - 1s 6ms/step - loss: 0.5129 - accuracy: 0.8056 - lr: 2.5119e-04\n",
      "Epoch 10/100\n",
      "162/162 [==============================] - 1s 6ms/step - loss: 0.4993 - accuracy: 0.8056 - lr: 2.8184e-04\n",
      "Epoch 11/100\n",
      "162/162 [==============================] - 1s 6ms/step - loss: 0.4934 - accuracy: 0.8056 - lr: 3.1623e-04\n",
      "Epoch 12/100\n",
      "162/162 [==============================] - 1s 6ms/step - loss: 0.4903 - accuracy: 0.8056 - lr: 3.5481e-04\n",
      "Epoch 13/100\n",
      "162/162 [==============================] - 1s 6ms/step - loss: 0.4879 - accuracy: 0.8056 - lr: 3.9811e-04\n",
      "Epoch 14/100\n",
      "162/162 [==============================] - 1s 6ms/step - loss: 0.4851 - accuracy: 0.8056 - lr: 4.4668e-04\n",
      "Epoch 15/100\n",
      "162/162 [==============================] - 1s 6ms/step - loss: 0.4807 - accuracy: 0.8056 - lr: 5.0119e-04\n",
      "Epoch 16/100\n",
      "162/162 [==============================] - 1s 6ms/step - loss: 0.4721 - accuracy: 0.8056 - lr: 5.6234e-04\n",
      "Epoch 17/100\n",
      "162/162 [==============================] - 1s 6ms/step - loss: 0.4533 - accuracy: 0.8056 - lr: 6.3096e-04\n",
      "Epoch 18/100\n",
      "162/162 [==============================] - 1s 6ms/step - loss: 0.4365 - accuracy: 0.8054 - lr: 7.0795e-04\n",
      "Epoch 19/100\n",
      "162/162 [==============================] - 1s 6ms/step - loss: 0.4215 - accuracy: 0.8075 - lr: 7.9433e-04\n",
      "Epoch 20/100\n",
      "162/162 [==============================] - 1s 6ms/step - loss: 0.4117 - accuracy: 0.8085 - lr: 8.9125e-04\n",
      "Epoch 21/100\n",
      "162/162 [==============================] - 1s 6ms/step - loss: 0.4058 - accuracy: 0.8143 - lr: 0.0010\n",
      "Epoch 22/100\n",
      "162/162 [==============================] - 1s 6ms/step - loss: 0.4023 - accuracy: 0.8133 - lr: 0.0011\n",
      "Epoch 23/100\n",
      "162/162 [==============================] - 1s 6ms/step - loss: 0.4002 - accuracy: 0.8149 - lr: 0.0013\n",
      "Epoch 24/100\n",
      "162/162 [==============================] - 1s 6ms/step - loss: 0.3981 - accuracy: 0.8155 - lr: 0.0014\n",
      "Epoch 25/100\n",
      "162/162 [==============================] - 1s 6ms/step - loss: 0.3965 - accuracy: 0.8147 - lr: 0.0016\n",
      "Epoch 26/100\n",
      "162/162 [==============================] - 1s 6ms/step - loss: 0.3951 - accuracy: 0.8149 - lr: 0.0018\n",
      "Epoch 27/100\n",
      "162/162 [==============================] - 1s 6ms/step - loss: 0.3938 - accuracy: 0.8164 - lr: 0.0020\n",
      "Epoch 28/100\n",
      "162/162 [==============================] - 1s 6ms/step - loss: 0.3925 - accuracy: 0.8174 - lr: 0.0022\n",
      "Epoch 29/100\n",
      "162/162 [==============================] - 1s 6ms/step - loss: 0.3913 - accuracy: 0.8153 - lr: 0.0025\n",
      "Epoch 30/100\n",
      "162/162 [==============================] - 1s 6ms/step - loss: 0.3905 - accuracy: 0.8186 - lr: 0.0028\n",
      "Epoch 31/100\n",
      "162/162 [==============================] - 1s 6ms/step - loss: 0.3904 - accuracy: 0.8191 - lr: 0.0032\n",
      "Epoch 32/100\n",
      "162/162 [==============================] - 1s 6ms/step - loss: 0.3884 - accuracy: 0.8172 - lr: 0.0035\n",
      "Epoch 33/100\n",
      "162/162 [==============================] - 1s 6ms/step - loss: 0.3876 - accuracy: 0.8182 - lr: 0.0040\n",
      "Epoch 34/100\n",
      "162/162 [==============================] - 1s 6ms/step - loss: 0.3874 - accuracy: 0.8207 - lr: 0.0045\n",
      "Epoch 35/100\n",
      "162/162 [==============================] - 1s 6ms/step - loss: 0.3880 - accuracy: 0.8182 - lr: 0.0050\n",
      "Epoch 36/100\n",
      "162/162 [==============================] - 1s 6ms/step - loss: 0.3847 - accuracy: 0.8209 - lr: 0.0056\n",
      "Epoch 37/100\n",
      "162/162 [==============================] - 1s 6ms/step - loss: 0.3885 - accuracy: 0.8182 - lr: 0.0063\n",
      "Epoch 38/100\n",
      "162/162 [==============================] - 1s 6ms/step - loss: 0.3851 - accuracy: 0.8161 - lr: 0.0071\n",
      "Epoch 39/100\n",
      "162/162 [==============================] - 1s 6ms/step - loss: 0.3829 - accuracy: 0.8191 - lr: 0.0079\n",
      "Epoch 40/100\n",
      "162/162 [==============================] - 1s 6ms/step - loss: 0.3832 - accuracy: 0.8191 - lr: 0.0089\n",
      "Epoch 41/100\n",
      "162/162 [==============================] - 1s 4ms/step - loss: 0.3855 - accuracy: 0.8186 - lr: 0.0100\n",
      "Epoch 42/100\n",
      "162/162 [==============================] - 1s 4ms/step - loss: 0.3831 - accuracy: 0.8205 - lr: 0.0112\n",
      "Epoch 43/100\n",
      "162/162 [==============================] - 1s 4ms/step - loss: 0.3858 - accuracy: 0.8176 - lr: 0.0126\n",
      "Epoch 44/100\n",
      "162/162 [==============================] - 1s 4ms/step - loss: 0.3805 - accuracy: 0.8232 - lr: 0.0141\n",
      "Epoch 45/100\n",
      "162/162 [==============================] - 1s 5ms/step - loss: 0.3792 - accuracy: 0.8240 - lr: 0.0158\n",
      "Epoch 46/100\n",
      "162/162 [==============================] - 1s 5ms/step - loss: 0.3801 - accuracy: 0.8219 - lr: 0.0178\n",
      "Epoch 47/100\n",
      "162/162 [==============================] - 1s 5ms/step - loss: 0.3855 - accuracy: 0.8170 - lr: 0.0200\n",
      "Epoch 48/100\n",
      "162/162 [==============================] - 1s 5ms/step - loss: 0.3808 - accuracy: 0.8246 - lr: 0.0224\n",
      "Epoch 49/100\n",
      "162/162 [==============================] - 1s 6ms/step - loss: 0.3840 - accuracy: 0.8162 - lr: 0.0251\n",
      "Epoch 50/100\n",
      "162/162 [==============================] - 1s 6ms/step - loss: 0.3811 - accuracy: 0.8203 - lr: 0.0282\n",
      "Epoch 51/100\n",
      "162/162 [==============================] - 1s 6ms/step - loss: 0.3842 - accuracy: 0.8162 - lr: 0.0316\n",
      "Epoch 52/100\n",
      "162/162 [==============================] - 1s 6ms/step - loss: 0.3861 - accuracy: 0.8166 - lr: 0.0355\n",
      "Epoch 53/100\n",
      "162/162 [==============================] - 1s 6ms/step - loss: 0.3777 - accuracy: 0.8230 - lr: 0.0398\n",
      "Epoch 54/100\n",
      "162/162 [==============================] - 1s 6ms/step - loss: 0.3865 - accuracy: 0.8203 - lr: 0.0447\n",
      "Epoch 55/100\n",
      "162/162 [==============================] - 1s 6ms/step - loss: 0.3868 - accuracy: 0.8159 - lr: 0.0501\n",
      "Epoch 56/100\n",
      "162/162 [==============================] - 1s 6ms/step - loss: 0.3866 - accuracy: 0.8201 - lr: 0.0562\n",
      "Epoch 57/100\n",
      "162/162 [==============================] - 1s 6ms/step - loss: 0.3871 - accuracy: 0.8201 - lr: 0.0631\n",
      "Epoch 58/100\n",
      "162/162 [==============================] - 1s 6ms/step - loss: 0.3883 - accuracy: 0.8176 - lr: 0.0708\n",
      "Epoch 59/100\n",
      "162/162 [==============================] - 1s 6ms/step - loss: 0.3850 - accuracy: 0.8248 - lr: 0.0794\n",
      "Epoch 60/100\n",
      "162/162 [==============================] - 1s 6ms/step - loss: 0.3935 - accuracy: 0.8149 - lr: 0.0891\n",
      "Epoch 61/100\n",
      "162/162 [==============================] - 1s 6ms/step - loss: 0.3963 - accuracy: 0.8178 - lr: 0.1000\n",
      "Epoch 62/100\n",
      "162/162 [==============================] - 1s 6ms/step - loss: 0.3936 - accuracy: 0.8190 - lr: 0.1122\n",
      "Epoch 63/100\n",
      "162/162 [==============================] - 1s 6ms/step - loss: 0.3967 - accuracy: 0.8191 - lr: 0.1259\n",
      "Epoch 64/100\n",
      "162/162 [==============================] - 1s 6ms/step - loss: 0.3914 - accuracy: 0.8201 - lr: 0.1413\n",
      "Epoch 65/100\n",
      "162/162 [==============================] - 1s 6ms/step - loss: 0.4040 - accuracy: 0.8103 - lr: 0.1585\n",
      "Epoch 66/100\n",
      "162/162 [==============================] - 1s 6ms/step - loss: 0.4009 - accuracy: 0.8164 - lr: 0.1778\n",
      "Epoch 67/100\n",
      "162/162 [==============================] - 1s 6ms/step - loss: 0.4256 - accuracy: 0.8058 - lr: 0.1995\n",
      "Epoch 68/100\n",
      "162/162 [==============================] - 1s 6ms/step - loss: 0.4356 - accuracy: 0.8041 - lr: 0.2239\n",
      "Epoch 69/100\n",
      "162/162 [==============================] - 1s 6ms/step - loss: 0.4123 - accuracy: 0.8031 - lr: 0.2512\n",
      "Epoch 70/100\n",
      "162/162 [==============================] - 1s 6ms/step - loss: 0.4100 - accuracy: 0.8093 - lr: 0.2818\n",
      "Epoch 71/100\n",
      "162/162 [==============================] - 1s 6ms/step - loss: 0.4076 - accuracy: 0.8035 - lr: 0.3162\n",
      "Epoch 72/100\n",
      "162/162 [==============================] - 1s 6ms/step - loss: 0.4223 - accuracy: 0.8050 - lr: 0.3548\n",
      "Epoch 73/100\n",
      "162/162 [==============================] - 1s 6ms/step - loss: 0.4447 - accuracy: 0.8075 - lr: 0.3981\n",
      "Epoch 74/100\n",
      "162/162 [==============================] - 1s 6ms/step - loss: 0.4311 - accuracy: 0.7990 - lr: 0.4467\n",
      "Epoch 75/100\n",
      "162/162 [==============================] - 1s 6ms/step - loss: 0.4336 - accuracy: 0.8027 - lr: 0.5012\n",
      "Epoch 76/100\n",
      "162/162 [==============================] - 1s 6ms/step - loss: 0.4324 - accuracy: 0.8004 - lr: 0.5623\n",
      "Epoch 77/100\n",
      "162/162 [==============================] - 1s 6ms/step - loss: 0.5043 - accuracy: 0.8033 - lr: 0.6310\n",
      "Epoch 78/100\n",
      "162/162 [==============================] - 1s 6ms/step - loss: 0.5011 - accuracy: 0.8056 - lr: 0.7079\n",
      "Epoch 79/100\n",
      "162/162 [==============================] - 1s 6ms/step - loss: 0.5038 - accuracy: 0.8056 - lr: 0.7943\n",
      "Epoch 80/100\n",
      "162/162 [==============================] - 1s 6ms/step - loss: 0.5052 - accuracy: 0.8056 - lr: 0.8913\n",
      "Epoch 81/100\n",
      "162/162 [==============================] - 1s 5ms/step - loss: 0.5182 - accuracy: 0.8056 - lr: 1.0000\n",
      "Epoch 82/100\n",
      "162/162 [==============================] - 1s 6ms/step - loss: 0.5081 - accuracy: 0.8056 - lr: 1.1220\n",
      "Epoch 83/100\n",
      "162/162 [==============================] - 1s 6ms/step - loss: 0.5082 - accuracy: 0.8056 - lr: 1.2589\n",
      "Epoch 84/100\n",
      "162/162 [==============================] - 1s 6ms/step - loss: 0.5190 - accuracy: 0.8056 - lr: 1.4125\n",
      "Epoch 85/100\n",
      "162/162 [==============================] - 1s 6ms/step - loss: 0.5099 - accuracy: 0.8056 - lr: 1.5849\n",
      "Epoch 86/100\n",
      "162/162 [==============================] - 1s 6ms/step - loss: 0.5186 - accuracy: 0.8056 - lr: 1.7783\n",
      "Epoch 87/100\n",
      "162/162 [==============================] - 1s 6ms/step - loss: 0.5306 - accuracy: 0.8056 - lr: 1.9953\n",
      "Epoch 88/100\n",
      "162/162 [==============================] - 1s 6ms/step - loss: 0.5297 - accuracy: 0.8056 - lr: 2.2387\n",
      "Epoch 89/100\n",
      "162/162 [==============================] - 1s 6ms/step - loss: 0.5255 - accuracy: 0.7986 - lr: 2.5119\n",
      "Epoch 90/100\n",
      "162/162 [==============================] - 1s 6ms/step - loss: 0.5443 - accuracy: 0.7928 - lr: 2.8184\n",
      "Epoch 91/100\n",
      "162/162 [==============================] - 1s 6ms/step - loss: 0.5487 - accuracy: 0.7809 - lr: 3.1623\n",
      "Epoch 92/100\n",
      "162/162 [==============================] - 1s 5ms/step - loss: 0.5510 - accuracy: 0.7975 - lr: 3.5481\n",
      "Epoch 93/100\n",
      "162/162 [==============================] - 1s 6ms/step - loss: 0.5562 - accuracy: 0.7979 - lr: 3.9811\n",
      "Epoch 94/100\n",
      "162/162 [==============================] - 1s 6ms/step - loss: 0.5298 - accuracy: 0.8014 - lr: 4.4668\n",
      "Epoch 95/100\n",
      "162/162 [==============================] - 1s 6ms/step - loss: 0.5419 - accuracy: 0.7897 - lr: 5.0119\n",
      "Epoch 96/100\n",
      "162/162 [==============================] - 1s 6ms/step - loss: 0.5730 - accuracy: 0.7634 - lr: 5.6234\n",
      "Epoch 97/100\n",
      "162/162 [==============================] - 1s 6ms/step - loss: 0.5317 - accuracy: 0.7959 - lr: 6.3096\n",
      "Epoch 98/100\n",
      "162/162 [==============================] - 1s 6ms/step - loss: 0.5461 - accuracy: 0.7979 - lr: 7.0795\n",
      "Epoch 99/100\n",
      "162/162 [==============================] - 1s 6ms/step - loss: 0.6076 - accuracy: 0.7677 - lr: 7.9433\n",
      "Epoch 100/100\n",
      "162/162 [==============================] - 1s 6ms/step - loss: 0.6747 - accuracy: 0.7511 - lr: 8.9125\n"
     ]
    }
   ],
   "source": [
    "# Create model to fit on the training data and test on testing data\n",
    "tf.random.set_seed(66)\n",
    "\n",
    "model_2 = tf.keras.Sequential([\n",
    "    tf.keras.layers.Dense(4, activation=\"relu\"),\n",
    "    tf.keras.layers.Dense(4, activation=\"relu\"),\n",
    "    tf.keras.layers.Dense(1, activation=\"sigmoid\")\n",
    "])\n",
    "\n",
    "model_2.compile(loss=\"binary_crossentropy\",\n",
    "optimizer=\"Adam\",\n",
    "metrics=[\"accuracy\"])\n",
    "\n",
    "# The callback works during model training\n",
    "# At each epoch if we change the learning rate and the \n",
    "# schedular is going to give Adam the updated learning rate\n",
    "\n",
    "# The learning rate starts at 1e-4 (.0001) and after each epoch \n",
    "# increase the learning rate 10^(epoch/20)\n",
    "scheduler = tf.keras.callbacks.LearningRateScheduler(lambda epoch: 1e-4 * 10**(epoch/20))\n",
    "\n",
    "history_lr = model_2.fit(X_train_normal, y_train, \n",
    "epochs=100,\n",
    "callbacks=[scheduler]) # You can have multiple callbacks"
   ]
  },
  {
   "cell_type": "markdown",
   "metadata": {},
   "source": [
    "## Plot Learning Rate Versus the Loss"
   ]
  },
  {
   "cell_type": "code",
   "execution_count": null,
   "metadata": {},
   "outputs": [
    {
     "data": {
      "text/plain": [
       "Text(0.5, 1.0, 'Learning Rate vs. Loss')"
      ]
     },
     "execution_count": 51,
     "metadata": {},
     "output_type": "execute_result"
    },
    {
     "data": {
      "image/png": "[encoded data removed]",
      "text/plain": [
       "<Figure size 1440x720 with 1 Axes>"
      ]
     },
     "metadata": {
      "needs_background": "light"
     },
     "output_type": "display_data"
    }
   ],
   "source": [
    "lrs = 1e-4 * (10 ** (tf.range(100)/20))\n",
    "plt.figure(figsize=(20, 10))\n",
    "plt.semilogx(lrs, history_lr.history['loss'])\n",
    "plt.xlabel(\"Learning Rate\")\n",
    "plt.ylabel(\"Loss\")\n",
    "plt.title(\"Learning Rate vs. Loss\")"
   ]
  },
  {
   "cell_type": "markdown",
   "metadata": {},
   "source": [
    "$ 10^{-3} $ or 0.001 is around the best learning rate\n",
    "\n",
    "To find the learning rate to begin training take the learning rate where loss is decreasing but hasn't flattened out. \n",
    "\n",
    "This is a log scale so the next dot is .02, .03, ..."
   ]
  },
  {
   "cell_type": "markdown",
   "metadata": {},
   "source": [
    "## Evaluate with Test Data"
   ]
  },
  {
   "cell_type": "code",
   "execution_count": null,
   "metadata": {},
   "outputs": [
    {
     "name": "stdout",
     "output_type": "stream",
     "text": [
      "41/41 [==============================] - 0s 7ms/step - loss: 0.4086 - accuracy: 0.8097\n",
      "Model Loss (Test Set) : 0.40856754779815674\n",
      "Model Accuracy (Test Set) : 0.8097447752952576\n"
     ]
    }
   ],
   "source": [
    "loss, acc = model_1.evaluate(X_test_normal, y_test)\n",
    "print(f\"Model Loss (Test Set) : {loss}\")\n",
    "print(f\"Model Accuracy (Test Set) : {acc}\")"
   ]
  },
  {
   "cell_type": "markdown",
   "metadata": {},
   "source": [
    "## Understanding the Model"
   ]
  },
  {
   "cell_type": "code",
   "execution_count": null,
   "metadata": {},
   "outputs": [
    {
     "data": {
      "image/png": "[encoded data removed]",
      "text/plain": [
       "<IPython.core.display.Image object>"
      ]
     },
     "execution_count": 52,
     "metadata": {},
     "output_type": "execute_result"
    }
   ],
   "source": [
    "# Each hidden layer tries to find patterns and then feeds \n",
    "# the results to the next layer\n",
    "from tensorflow.keras.utils import plot_model\n",
    "plot_model(model_2, show_shapes=True)"
   ]
  },
  {
   "cell_type": "code",
   "execution_count": null,
   "metadata": {},
   "outputs": [
    {
     "data": {
      "text/plain": [
       "(array([[-0.92357695, -1.8599589 , -0.5405463 , -0.33853838],\n",
       "        [-2.5003278 ,  0.05589265, -2.1297085 , -2.0484781 ],\n",
       "        [-3.1383114 , -3.2839518 , -0.64899147, -1.2386305 ],\n",
       "        [-0.06084743, -0.6045449 ,  0.48507988,  0.82604545]],\n",
       "       dtype=float32),\n",
       " (4, 4))"
      ]
     },
     "execution_count": 53,
     "metadata": {},
     "output_type": "execute_result"
    }
   ],
   "source": [
    "# Get Weight values & size\n",
    "weights, biases = model_2.layers[1].get_weights()\n",
    "weights, weights.shape"
   ]
  },
  {
   "cell_type": "markdown",
   "metadata": {},
   "source": [
    "For each of the 11 data points a 4 value tensor is created. This is referred to as the weight. It adjusts to find patterns in those 11 data points.\n",
    "\n",
    "These 4 values start off as random weightings and adjust to decide how to best use these values to influence the neurla networks decisions (Guesses). Our neural network updates weights and biases as it improves its predictions."
   ]
  },
  {
   "cell_type": "markdown",
   "metadata": {},
   "source": [
    "Each of the 11 features is assigned a 4 value tensor."
   ]
  },
  {
   "cell_type": "code",
   "execution_count": null,
   "metadata": {},
   "outputs": [
    {
     "data": {
      "text/plain": [
       "(array([-2.596155 , -0.623707 , -1.7804542, -2.7812173], dtype=float32), (4,))"
      ]
     },
     "execution_count": 54,
     "metadata": {},
     "output_type": "execute_result"
    }
   ],
   "source": [
    "# Bias values & size\n",
    "biases, biases.shape"
   ]
  },
  {
   "cell_type": "markdown",
   "metadata": {},
   "source": [
    "There is one bias vector for each hidden unit in our neural network. It is paired with the weight tensor. The bias tensor is responsible for defining how much the patterns in the weights tensor should influence the next layer."
   ]
  },
  {
   "cell_type": "markdown",
   "metadata": {},
   "source": [
    "## Multi-class Classification"
   ]
  },
  {
   "cell_type": "markdown",
   "metadata": {},
   "source": [
    "When you have more than 2 classes it is called a multi-class classification. Build neural network to classify written numbers from 0 to 9. We'll use the Tensorflow MNIST handwritten digit database. 60,000 training examples and a test set of 10,000. 28x28 grayscale image associated with 10 classes. "
   ]
  },
  {
   "cell_type": "markdown",
   "metadata": {},
   "source": [
    "## Download Data and Split into Training & Test"
   ]
  },
  {
   "cell_type": "code",
   "execution_count": null,
   "metadata": {},
   "outputs": [
    {
     "name": "stdout",
     "output_type": "stream",
     "text": [
      "Downloading data from https://storage.googleapis.com/tensorflow/tf-keras-datasets/mnist.npz\n",
      "11493376/11490434 [==============================] - 0s 0us/step\n",
      "11501568/11490434 [==============================] - 0s 0us/step\n"
     ]
    }
   ],
   "source": [
    "mnist = tf.keras.datasets.mnist \n",
    "(X_train, y_train),(X_test, y_test) = mnist.load_data()"
   ]
  },
  {
   "cell_type": "markdown",
   "metadata": {},
   "source": [
    "## View Image"
   ]
  },
  {
   "cell_type": "code",
   "execution_count": null,
   "metadata": {},
   "outputs": [
    {
     "data": {
      "image/png": "[encoded data removed]",
      "text/plain": [
       "<Figure size 432x288 with 1 Axes>"
      ]
     },
     "metadata": {
      "needs_background": "light"
     },
     "output_type": "display_data"
    }
   ],
   "source": [
    "plt.imshow(X_train[0], cmap=\"gray\")\n",
    "plt.show()"
   ]
  },
  {
   "cell_type": "markdown",
   "metadata": {},
   "source": [
    "## Normalize the Features"
   ]
  },
  {
   "cell_type": "code",
   "execution_count": null,
   "metadata": {},
   "outputs": [],
   "source": [
    "X_train = tf.keras.utils.normalize(X_train, axis=1)\n",
    "X_test = tf.keras.utils.normalize(X_test, axis=1)"
   ]
  },
  {
   "cell_type": "markdown",
   "metadata": {},
   "source": [
    "## Show Unique values in Label Numpy Array"
   ]
  },
  {
   "cell_type": "code",
   "execution_count": null,
   "metadata": {},
   "outputs": [
    {
     "data": {
      "text/plain": [
       "array([0, 1, 2, 3, 4, 5, 6, 7, 8, 9], dtype=uint8)"
      ]
     },
     "execution_count": 12,
     "metadata": {},
     "output_type": "execute_result"
    }
   ],
   "source": [
    "np.unique(y_test)"
   ]
  },
  {
   "cell_type": "markdown",
   "metadata": {},
   "source": [
    "## Store Label Names"
   ]
  },
  {
   "cell_type": "code",
   "execution_count": null,
   "metadata": {},
   "outputs": [],
   "source": [
    "label_names = np.unique(y_test)"
   ]
  },
  {
   "cell_type": "markdown",
   "metadata": {},
   "source": [
    "| Hyperparameter | Multiclass Classification |\n",
    "| :---: | :---: |\n",
    "| Input Layer | Shape == number of features |\n",
    "| Hidden Layers | Minimum of 1 to Unlimited |\n",
    "| Neurons in Hidden Layer | Normally 10 to 100 |\n",
    "| Output layer | 1 per Class |\n",
    "| Hidden activation | Usually Rectified Linear Unit (ReLU) |\n",
    "| Output activation | Softmax |\n",
    "| Loss function | CategoricalCrossentropy |\n",
    "| Optimizer | Stochastic Gradient Descent, Adam |"
   ]
  },
  {
   "cell_type": "markdown",
   "metadata": {},
   "source": [
    "## Build Model"
   ]
  },
  {
   "cell_type": "code",
   "execution_count": null,
   "metadata": {},
   "outputs": [
    {
     "name": "stdout",
     "output_type": "stream",
     "text": [
      "Epoch 1/10\n",
      "1875/1875 [==============================] - 10s 4ms/step - loss: 1.2819 - accuracy: 0.5605 - val_loss: 0.8054 - val_accuracy: 0.7323\n",
      "Epoch 2/10\n",
      "1875/1875 [==============================] - 8s 4ms/step - loss: 0.7314 - accuracy: 0.7563 - val_loss: 0.6761 - val_accuracy: 0.7763\n",
      "Epoch 3/10\n",
      "1875/1875 [==============================] - 8s 4ms/step - loss: 0.6551 - accuracy: 0.7826 - val_loss: 0.6293 - val_accuracy: 0.7924\n",
      "Epoch 4/10\n",
      "1875/1875 [==============================] - 8s 4ms/step - loss: 0.6188 - accuracy: 0.7971 - val_loss: 0.6011 - val_accuracy: 0.8064\n",
      "Epoch 5/10\n",
      "1875/1875 [==============================] - 8s 4ms/step - loss: 0.5958 - accuracy: 0.8137 - val_loss: 0.5843 - val_accuracy: 0.8229\n",
      "Epoch 6/10\n",
      "1875/1875 [==============================] - 8s 4ms/step - loss: 0.5712 - accuracy: 0.8283 - val_loss: 0.5629 - val_accuracy: 0.8380\n",
      "Epoch 7/10\n",
      "1875/1875 [==============================] - 7s 4ms/step - loss: 0.5501 - accuracy: 0.8384 - val_loss: 0.5454 - val_accuracy: 0.8409\n",
      "Epoch 8/10\n",
      "1875/1875 [==============================] - 8s 4ms/step - loss: 0.5367 - accuracy: 0.8421 - val_loss: 0.5329 - val_accuracy: 0.8465\n",
      "Epoch 9/10\n",
      "1875/1875 [==============================] - 8s 4ms/step - loss: 0.5270 - accuracy: 0.8441 - val_loss: 0.5253 - val_accuracy: 0.8478\n",
      "Epoch 10/10\n",
      "1875/1875 [==============================] - 7s 4ms/step - loss: 0.5201 - accuracy: 0.8464 - val_loss: 0.5196 - val_accuracy: 0.8487\n"
     ]
    }
   ],
   "source": [
    "# Set random seed\n",
    "tf.random.set_seed(66)\n",
    "\n",
    "# Create the model\n",
    "# We have to flatten the 28x28 image\n",
    "# Create a 4 value tensor for each of the 784 cells\n",
    "# Optimize and create another 4 value tensor\n",
    "# Output is 1 of the 10 possible labels\n",
    "model_3 = tf.keras.Sequential([\n",
    "  tf.keras.layers.Flatten(input_shape=(28, 28)),  \n",
    "  tf.keras.layers.Dense(4, activation=\"relu\"),\n",
    "  tf.keras.layers.Dense(4, activation=\"relu\"),\n",
    "  tf.keras.layers.Dense(10, activation=\"softmax\")\n",
    "])\n",
    "\n",
    "# Use SparseCategoricalCrossentropy if data isn't \n",
    "# normalized or one-hot encoded\n",
    "model_3.compile(loss=tf.keras.losses.SparseCategoricalCrossentropy(),\n",
    "                 optimizer=tf.keras.optimizers.Adam(),\n",
    "                 metrics=[\"accuracy\"])\n",
    "\n",
    "# Fit the model\n",
    "history = model_3.fit(X_train, \n",
    "                      y_train,\n",
    "                      epochs=10,\n",
    "                      validation_data=(X_test, y_test)) "
   ]
  },
  {
   "cell_type": "markdown",
   "metadata": {},
   "source": [
    "## Find Ideal learning Rate"
   ]
  },
  {
   "cell_type": "code",
   "execution_count": null,
   "metadata": {},
   "outputs": [
    {
     "name": "stdout",
     "output_type": "stream",
     "text": [
      "Epoch 1/40\n",
      "1875/1875 [==============================] - 9s 5ms/step - loss: 1.2819 - accuracy: 0.5605 - val_loss: 0.8054 - val_accuracy: 0.7323 - lr: 0.0010\n",
      "Epoch 2/40\n",
      "1875/1875 [==============================] - 7s 4ms/step - loss: 0.7270 - accuracy: 0.7580 - val_loss: 0.6705 - val_accuracy: 0.7764 - lr: 0.0011\n",
      "Epoch 3/40\n",
      "1875/1875 [==============================] - 8s 4ms/step - loss: 0.6473 - accuracy: 0.7851 - val_loss: 0.6213 - val_accuracy: 0.7949 - lr: 0.0013\n",
      "Epoch 4/40\n",
      "1875/1875 [==============================] - 8s 4ms/step - loss: 0.6101 - accuracy: 0.8041 - val_loss: 0.5868 - val_accuracy: 0.8230 - lr: 0.0014\n",
      "Epoch 5/40\n",
      "1875/1875 [==============================] - 8s 4ms/step - loss: 0.5771 - accuracy: 0.8267 - val_loss: 0.5558 - val_accuracy: 0.8356 - lr: 0.0016\n",
      "Epoch 6/40\n",
      "1875/1875 [==============================] - 8s 4ms/step - loss: 0.5490 - accuracy: 0.8367 - val_loss: 0.5446 - val_accuracy: 0.8402 - lr: 0.0018\n",
      "Epoch 7/40\n",
      "1875/1875 [==============================] - 8s 4ms/step - loss: 0.5344 - accuracy: 0.8425 - val_loss: 0.5242 - val_accuracy: 0.8478 - lr: 0.0020\n",
      "Epoch 8/40\n",
      "1875/1875 [==============================] - 8s 4ms/step - loss: 0.5274 - accuracy: 0.8433 - val_loss: 0.5168 - val_accuracy: 0.8507 - lr: 0.0022\n",
      "Epoch 9/40\n",
      "1875/1875 [==============================] - 8s 4ms/step - loss: 0.5209 - accuracy: 0.8457 - val_loss: 0.5129 - val_accuracy: 0.8481 - lr: 0.0025\n",
      "Epoch 10/40\n",
      "1875/1875 [==============================] - 8s 4ms/step - loss: 0.5153 - accuracy: 0.8471 - val_loss: 0.5107 - val_accuracy: 0.8490 - lr: 0.0028\n",
      "Epoch 11/40\n",
      "1875/1875 [==============================] - 8s 4ms/step - loss: 0.5098 - accuracy: 0.8483 - val_loss: 0.5049 - val_accuracy: 0.8509 - lr: 0.0032\n",
      "Epoch 12/40\n",
      "1875/1875 [==============================] - 8s 4ms/step - loss: 0.5048 - accuracy: 0.8494 - val_loss: 0.4962 - val_accuracy: 0.8525 - lr: 0.0035\n",
      "Epoch 13/40\n",
      "1875/1875 [==============================] - 9s 5ms/step - loss: 0.4993 - accuracy: 0.8515 - val_loss: 0.5099 - val_accuracy: 0.8473 - lr: 0.0040\n",
      "Epoch 14/40\n",
      "1875/1875 [==============================] - 8s 4ms/step - loss: 0.4970 - accuracy: 0.8528 - val_loss: 0.5005 - val_accuracy: 0.8481 - lr: 0.0045\n",
      "Epoch 15/40\n",
      "1875/1875 [==============================] - 8s 5ms/step - loss: 0.4916 - accuracy: 0.8541 - val_loss: 0.4909 - val_accuracy: 0.8541 - lr: 0.0050\n",
      "Epoch 16/40\n",
      "1875/1875 [==============================] - 8s 4ms/step - loss: 0.4838 - accuracy: 0.8552 - val_loss: 0.4688 - val_accuracy: 0.8659 - lr: 0.0056\n",
      "Epoch 17/40\n",
      "1875/1875 [==============================] - 8s 4ms/step - loss: 0.4780 - accuracy: 0.8577 - val_loss: 0.5298 - val_accuracy: 0.8443 - lr: 0.0063\n",
      "Epoch 18/40\n",
      "1875/1875 [==============================] - 8s 4ms/step - loss: 0.4723 - accuracy: 0.8591 - val_loss: 0.4753 - val_accuracy: 0.8594 - lr: 0.0071\n",
      "Epoch 19/40\n",
      "1875/1875 [==============================] - 8s 4ms/step - loss: 0.4709 - accuracy: 0.8597 - val_loss: 0.4681 - val_accuracy: 0.8666 - lr: 0.0079\n",
      "Epoch 20/40\n",
      "1875/1875 [==============================] - 8s 4ms/step - loss: 0.4712 - accuracy: 0.8578 - val_loss: 0.4905 - val_accuracy: 0.8585 - lr: 0.0089\n",
      "Epoch 21/40\n",
      "1875/1875 [==============================] - 7s 4ms/step - loss: 0.4734 - accuracy: 0.8582 - val_loss: 0.4775 - val_accuracy: 0.8675 - lr: 0.0100\n",
      "Epoch 22/40\n",
      "1875/1875 [==============================] - 8s 4ms/step - loss: 0.4747 - accuracy: 0.8566 - val_loss: 0.4765 - val_accuracy: 0.8652 - lr: 0.0112\n",
      "Epoch 23/40\n",
      "1875/1875 [==============================] - 8s 4ms/step - loss: 0.4769 - accuracy: 0.8566 - val_loss: 0.5056 - val_accuracy: 0.8513 - lr: 0.0126\n",
      "Epoch 24/40\n",
      "1875/1875 [==============================] - 8s 4ms/step - loss: 0.4800 - accuracy: 0.8557 - val_loss: 0.4691 - val_accuracy: 0.8636 - lr: 0.0141\n",
      "Epoch 25/40\n",
      "1875/1875 [==============================] - 9s 5ms/step - loss: 0.4851 - accuracy: 0.8550 - val_loss: 0.4801 - val_accuracy: 0.8640 - lr: 0.0158\n",
      "Epoch 26/40\n",
      "1875/1875 [==============================] - 8s 4ms/step - loss: 0.4935 - accuracy: 0.8513 - val_loss: 0.5174 - val_accuracy: 0.8497 - lr: 0.0178\n",
      "Epoch 27/40\n",
      "1875/1875 [==============================] - 8s 4ms/step - loss: 0.4989 - accuracy: 0.8493 - val_loss: 0.5353 - val_accuracy: 0.8419 - lr: 0.0200\n",
      "Epoch 28/40\n",
      "1875/1875 [==============================] - 9s 5ms/step - loss: 0.5108 - accuracy: 0.8456 - val_loss: 0.5136 - val_accuracy: 0.8520 - lr: 0.0224\n",
      "Epoch 29/40\n",
      "1875/1875 [==============================] - 8s 4ms/step - loss: 0.5175 - accuracy: 0.8445 - val_loss: 0.5750 - val_accuracy: 0.8386 - lr: 0.0251\n",
      "Epoch 30/40\n",
      "1875/1875 [==============================] - 9s 5ms/step - loss: 0.5278 - accuracy: 0.8417 - val_loss: 0.6092 - val_accuracy: 0.8170 - lr: 0.0282\n",
      "Epoch 31/40\n",
      "1875/1875 [==============================] - 8s 4ms/step - loss: 0.5442 - accuracy: 0.8377 - val_loss: 0.5221 - val_accuracy: 0.8518 - lr: 0.0316\n",
      "Epoch 32/40\n",
      "1875/1875 [==============================] - 8s 4ms/step - loss: 0.5566 - accuracy: 0.8362 - val_loss: 0.6408 - val_accuracy: 0.8162 - lr: 0.0355\n",
      "Epoch 33/40\n",
      "1875/1875 [==============================] - 8s 5ms/step - loss: 0.5744 - accuracy: 0.8334 - val_loss: 0.5699 - val_accuracy: 0.8429 - lr: 0.0398\n",
      "Epoch 34/40\n",
      "1875/1875 [==============================] - 8s 4ms/step - loss: 0.5958 - accuracy: 0.8277 - val_loss: 0.6559 - val_accuracy: 0.8183 - lr: 0.0447\n",
      "Epoch 35/40\n",
      "1875/1875 [==============================] - 8s 4ms/step - loss: 0.6169 - accuracy: 0.8202 - val_loss: 0.6972 - val_accuracy: 0.7924 - lr: 0.0501\n",
      "Epoch 36/40\n",
      "1875/1875 [==============================] - 9s 5ms/step - loss: 0.6664 - accuracy: 0.8067 - val_loss: 0.6349 - val_accuracy: 0.8127 - lr: 0.0562\n",
      "Epoch 37/40\n",
      "1875/1875 [==============================] - 8s 5ms/step - loss: 0.7218 - accuracy: 0.7890 - val_loss: 0.6509 - val_accuracy: 0.8213 - lr: 0.0631\n",
      "Epoch 38/40\n",
      "1875/1875 [==============================] - 8s 4ms/step - loss: 0.7518 - accuracy: 0.7794 - val_loss: 0.6304 - val_accuracy: 0.8206 - lr: 0.0708\n",
      "Epoch 39/40\n",
      "1875/1875 [==============================] - 8s 4ms/step - loss: 0.7720 - accuracy: 0.7713 - val_loss: 0.8606 - val_accuracy: 0.7741 - lr: 0.0794\n",
      "Epoch 40/40\n",
      "1875/1875 [==============================] - 8s 4ms/step - loss: 0.9161 - accuracy: 0.7153 - val_loss: 0.9719 - val_accuracy: 0.6422 - lr: 0.0891\n"
     ]
    }
   ],
   "source": [
    "# The ideal learning rate is where the loss decreases the most\n",
    "# Set random seed\n",
    "tf.random.set_seed(66)\n",
    "\n",
    "# Create the model\n",
    "model_4 = tf.keras.Sequential([\n",
    "  tf.keras.layers.Flatten(input_shape=(28, 28)), \n",
    "  tf.keras.layers.Dense(4, activation=\"relu\"),\n",
    "  tf.keras.layers.Dense(4, activation=\"relu\"),\n",
    "  tf.keras.layers.Dense(10, activation=\"softmax\") \n",
    "])\n",
    "\n",
    "# Compile the model\n",
    "model_4.compile(loss=tf.keras.losses.SparseCategoricalCrossentropy(), \n",
    "                 optimizer=tf.keras.optimizers.Adam(),\n",
    "                 metrics=[\"accuracy\"])\n",
    "\n",
    "# Learning rate callback\n",
    "scheduler = tf.keras.callbacks.LearningRateScheduler(lambda epoch: 1e-3 * 10**(epoch/20))\n",
    "\n",
    "# Fit the model\n",
    "history_lr = model_4.fit(X_train, \n",
    "                              y_train,\n",
    "                              epochs=40,\n",
    "                              validation_data=(X_test, y_test),\n",
    "                              callbacks=[scheduler])"
   ]
  },
  {
   "cell_type": "markdown",
   "metadata": {},
   "source": [
    "## Plot to Find Ideal Learning rate"
   ]
  },
  {
   "cell_type": "code",
   "execution_count": null,
   "metadata": {},
   "outputs": [
    {
     "data": {
      "text/plain": [
       "Text(0.5, 1.0, 'Learning Rate vs. Loss')"
      ]
     },
     "execution_count": 22,
     "metadata": {},
     "output_type": "execute_result"
    },
    {
     "data": {
      "image/png": "[encoded data removed]",
      "text/plain": [
       "<Figure size 1440x720 with 1 Axes>"
      ]
     },
     "metadata": {
      "needs_background": "light"
     },
     "output_type": "display_data"
    }
   ],
   "source": [
    "lrs = 1e-4 * (10 ** (tf.range(40)/20))\n",
    "plt.figure(figsize=(20, 10))\n",
    "plt.semilogx(lrs, history_lr.history['loss'])\n",
    "plt.xlabel(\"Learning Rate\")\n",
    "plt.ylabel(\"Loss\")\n",
    "plt.title(\"Learning Rate vs. Loss\")"
   ]
  },
  {
   "cell_type": "markdown",
   "metadata": {},
   "source": [
    "$ 10^{-3} $ or 0.001 is around the best learning rate"
   ]
  },
  {
   "cell_type": "markdown",
   "metadata": {},
   "source": [
    "## Make Predictions with Model"
   ]
  },
  {
   "cell_type": "code",
   "execution_count": null,
   "metadata": {},
   "outputs": [
    {
     "data": {
      "text/plain": [
       "array([1.6335019e-19, 1.5874131e-09, 9.3062638e-08, 3.1929246e-09,\n",
       "       7.0527524e-02, 1.8261727e-11, 1.3014530e-18, 9.2456114e-01,\n",
       "       6.1137167e-12, 4.9111922e-03], dtype=float32)"
      ]
     },
     "execution_count": 26,
     "metadata": {},
     "output_type": "execute_result"
    }
   ],
   "source": [
    "# Prediction Probabilities\n",
    "y_prob = model_4.predict(X_test) \n",
    "y_prob[0]"
   ]
  },
  {
   "cell_type": "code",
   "execution_count": null,
   "metadata": {},
   "outputs": [
    {
     "data": {
      "text/plain": [
       "7"
      ]
     },
     "execution_count": 28,
     "metadata": {},
     "output_type": "execute_result"
    }
   ],
   "source": [
    "# Get the actual label name our model predicted\n",
    "label_names[tf.argmax(y_prob[0])]"
   ]
  },
  {
   "cell_type": "code",
   "execution_count": null,
   "metadata": {},
   "outputs": [
    {
     "data": {
      "text/plain": [
       "7"
      ]
     },
     "execution_count": 31,
     "metadata": {},
     "output_type": "execute_result"
    }
   ],
   "source": [
    "# Get the actual number from test label\n",
    "y_test[0]"
   ]
  }
 ],
 "metadata": {
  "interpreter": {
   "hash": "52eb59783876bcfbd73674135f70218772b928a518e0b6bdca31ef39a84411bc"
  },
  "kernelspec": {
   "display_name": "Python 3 (ipykernel)",
   "language": "python",
   "name": "python3"
  },
  "language_info": {
   "codemirror_mode": {
    "name": "ipython",
    "version": 3
   },
   "file_extension": ".py",
   "mimetype": "text/x-python",
   "name": "python",
   "nbconvert_exporter": "python",
   "pygments_lexer": "ipython3",
   "version": "3.9.16"
  }
 },
 "nbformat": 4,
 "nbformat_minor": 2
}
